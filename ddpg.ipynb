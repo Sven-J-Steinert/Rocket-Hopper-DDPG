{
 "cells": [
  {
   "cell_type": "markdown",
   "metadata": {},
   "source": [
    "# General Settings\n",
    "\n",
    "Import Libraries that are used in the Reinforcement Learning algorithm"
   ]
  },
  {
   "cell_type": "code",
   "execution_count": 1,
   "metadata": {},
   "outputs": [],
   "source": [
    "import torch \n",
    "import torch.nn as nn\n",
    "import numpy as np\n",
    "from torch.autograd import Variable\n",
    "import os\n",
    "import torch as T\n",
    "import torch.nn as nn\n",
    "import torch.nn.functional as F\n",
    "import torch.optim as optim\n",
    "import numpy as np\n",
    "import copy\n",
    "from itertools import count\n",
    "from hopperenv import *     # Our Rocket Hopper Environment\n",
    "import matplotlib.pyplot as plt\n",
    "import random\n",
    "import copy\n",
    "import gym"
   ]
  },
  {
   "cell_type": "code",
   "execution_count": 2,
   "metadata": {},
   "outputs": [
    {
     "name": "stdout",
     "output_type": "stream",
     "text": [
      "PyTorch version: 2.1.1+cpu\n",
      "NumPy version: 1.26.2\n",
      "Gym version: 0.26.2\n"
     ]
    }
   ],
   "source": [
    "print(f\"PyTorch version: {torch.__version__}\")\n",
    "print(f\"NumPy version: {np.__version__}\")\n",
    "print(f\"Gym version: {gym.__version__}\")"
   ]
  },
  {
   "cell_type": "code",
   "execution_count": 3,
   "metadata": {},
   "outputs": [],
   "source": [
    "# helper function for plotting\n",
    "def plot(states):\n",
    "    num_states = states.shape[0]\n",
    "    time = np.arange(states.shape[1])\n",
    "\n",
    "    plt.figure(figsize=(10, 2*num_states))\n",
    "\n",
    "    names = [\"position [m]\",\"velocity [m/s]\",\"p_set [bar]\",\"error [m]\",\"reward\",\"?\"]\n",
    "    colors = [\"tab:blue\",\"tab:orange\",\"tab:green\",\"tab:red\",\"tab:cyan\",\"black\"]\n",
    "\n",
    "    for i in range(num_states):\n",
    "        plt.subplot(num_states, 1, i + 1)\n",
    "        plt.plot(time, states[i, :], label=names[i],color=colors[i])\n",
    "        if i == 3:\n",
    "            plt.fill_between(time, 0, states[i, :], color=colors[i], alpha=0.5)\n",
    "        plt.ylabel(names[i])\n",
    "        plt.legend()\n",
    "        plt.grid(True)\n",
    "\n",
    "    plt.xlabel('Time [steps]')\n",
    "    plt.tight_layout()\n",
    "    plt.show()"
   ]
  },
  {
   "cell_type": "markdown",
   "metadata": {},
   "source": [
    "### Hyperparameter Settings\n",
    "\n",
    "The configuration initially follows the [supplementary information section](https://arxiv.org/pdf/1509.02971.pdf?ref=blog.paperspace.com) of the DDPG paper in page 11."
   ]
  },
  {
   "cell_type": "code",
   "execution_count": 4,
   "metadata": {},
   "outputs": [],
   "source": [
    "BUFFER_SIZE=1000000 # Buffer size of 1 million entries\n",
    "\n",
    "BATCH_SIZE=64   # Sampling from memory - This can be 128 for more complex tasks such as Hopper\n",
    "UPDATE_ITERATION=100 # Number of iterations in the replay buffer\n",
    "\n",
    "tau=0.001       # Target Network HyperParameters (soft updating)\n",
    "gamma=0.99      # ?\n",
    "\n",
    "directory = './'\n",
    "\n",
    "# Neural Network architecture:\n",
    "H1=64  # Neuron of 1st Layers #400 #20\n",
    "H2=128  # Neurons of 2nd layers #300 #64"
   ]
  },
  {
   "cell_type": "markdown",
   "metadata": {},
   "source": [
    "### Exploration \n",
    "\n",
    "To ensure **exploration**, we have to add noise to the action. An **Ornstein-Uhlenbeck** process is chosen to add noise in a smooth way, suitable for continuous control tasks."
   ]
  },
  {
   "cell_type": "code",
   "execution_count": 5,
   "metadata": {},
   "outputs": [],
   "source": [
    "class OU_Noise(object):\n",
    "    \"\"\"Ornstein-Uhlenbeck process.\n",
    "    \n",
    "    The OU_Noise class has four attributes\n",
    "    \n",
    "        size: the size of the noise vector to be generated\n",
    "        mu: the mean of the noise, set to 0 by default\n",
    "        theta: the rate of mean reversion, controlling how quickly the noise returns to the mean\n",
    "        sigma: the volatility of the noise, controlling the magnitude of fluctuations\n",
    "    \"\"\"\n",
    "\n",
    "    def __init__(self, size, seed, mu=0., theta=0.15, sigma=0.25):\n",
    "        self.mu = mu * np.ones(size)\n",
    "        self.theta = theta\n",
    "        self.sigma = sigma\n",
    "        self.seed = random.seed(seed)\n",
    "        self.reset()\n",
    "\n",
    "    def reset(self):\n",
    "        \"\"\"Reset the internal state (= noise) to mean (mu).\"\"\"\n",
    "        self.state = copy.copy(self.mu)\n",
    "\n",
    "    def sample(self):\n",
    "        \"\"\"Update internal state and return it as a noise sample.\n",
    "        This method uses the current state of the noise and generates the next sample\n",
    "        \"\"\"\n",
    "        dx = self.theta * (self.mu - self.state) + self.sigma * np.array([np.random.normal() for _ in range(len(self.state))])\n",
    "        self.state += dx\n",
    "        return self.state"
   ]
  },
  {
   "cell_type": "markdown",
   "metadata": {},
   "source": [
    "### Replay Buffer\n",
    "Implement a simple replay buffer without priority"
   ]
  },
  {
   "cell_type": "code",
   "execution_count": 6,
   "metadata": {},
   "outputs": [],
   "source": [
    "class Replay_buffer():\n",
    "    '''\n",
    "    Code based on:\n",
    "    https://github.com/openai/baselines/blob/master/baselines/deepq/replay_buffer.py\n",
    "    Expects tuples of (state, next_state, action, reward, done)\n",
    "    '''\n",
    "    def __init__(self, max_size=BUFFER_SIZE):\n",
    "        \"\"\"Create Replay buffer.\n",
    "        Parameters\n",
    "        ----------\n",
    "        size: int\n",
    "            Max number of transitions to store in the buffer. When the buffer\n",
    "            overflows the old memories are dropped.\n",
    "        \"\"\"\n",
    "        self.storage = []\n",
    "        self.max_size = max_size\n",
    "        self.ptr = 0\n",
    "\n",
    "    def push(self, data):\n",
    "        if len(self.storage) == self.max_size:\n",
    "            self.storage[int(self.ptr)] = data\n",
    "            self.ptr = (self.ptr + 1) % self.max_size\n",
    "        else:\n",
    "            self.storage.append(data)\n",
    "\n",
    "    def sample(self, BATCH_SIZE):\n",
    "        \"\"\"Sample a batch of experiences.\n",
    "        Parameters\n",
    "        ----------\n",
    "        BATCH_SIZE: int\n",
    "            How many transitions to sample.\n",
    "        Returns\n",
    "        -------\n",
    "        state: np.array\n",
    "            batch of state or observations\n",
    "        action: np.array\n",
    "            batch of actions executed given a state\n",
    "        reward: np.array\n",
    "            rewards received as results of executing action\n",
    "        next_state: np.array\n",
    "            next state next state or observations seen after executing action\n",
    "        done: np.array\n",
    "            done[i] = 1 if executing ation[i] resulted in\n",
    "            the end of an episode and 0 otherwise.\n",
    "        \"\"\"\n",
    "        ind = np.random.randint(0, len(self.storage), size=BATCH_SIZE)\n",
    "        state, next_state, action, reward, done = [], [], [], [], []\n",
    "\n",
    "        for i in ind:\n",
    "            st, n_st, act, rew, dn = self.storage[i]\n",
    "            state.append(np.array(st, copy=False))\n",
    "            next_state.append(np.array(n_st, copy=False))\n",
    "            action.append(np.array(act, copy=False))\n",
    "            reward.append(np.array(rew, copy=False))\n",
    "            done.append(np.array(dn, copy=False))\n",
    "\n",
    "        return np.array(state), np.array(next_state), np.array(action), np.array(reward).reshape(-1, 1), np.array(done).reshape(-1, 1)\n"
   ]
  },
  {
   "cell_type": "markdown",
   "metadata": {},
   "source": [
    "### Network Architecture\n",
    "\n",
    "Network architecture is defined:\n",
    "\n",
    "- **Actor** is composed of:\n",
    "    - 3 FC (Fully-connected) Layers \n",
    "    - Hyperbolic tangent as the activation function -> Deals with a *-1,1* value range\n",
    "\n",
    "- **Critic** is composed of:\n",
    "    - Input: *state* & *action*\n",
    "    - Output: Q-value after 3 FC Layers\n",
    "\n",
    "\n",
    "In complex tasks, a *higher batch size* is required (128 instead of 64) and *batch normalisation layers* between input and hidden layers in both actor and critic."
   ]
  },
  {
   "cell_type": "code",
   "execution_count": 7,
   "metadata": {},
   "outputs": [],
   "source": [
    "class Actor(nn.Module):\n",
    "    \"\"\"\n",
    "    The Actor model takes in a state observation as input and \n",
    "    outputs an action, which is a continuous value.\n",
    "    \n",
    "    It consists of four fully coonected linear layers with ReLU activation functions and \n",
    "    a final output layer selects one single optimized action for the state\n",
    "    \"\"\"\n",
    "    def __init__(self, n_states, action_dim, H1):\n",
    "        super(Actor, self).__init__()\n",
    "        self.net = nn.Sequential(\n",
    "            nn.Linear(n_states, H1), \n",
    "            nn.ReLU(), \n",
    "            nn.Linear(H1, H1), \n",
    "            nn.ReLU(), \n",
    "            nn.Linear(H1, H1), \n",
    "            nn.ReLU(), \n",
    "            nn.Linear(H1, action_dim)\n",
    "        )\n",
    "        \n",
    "    def forward(self, state):\n",
    "        return self.net(state)\n",
    "\n",
    "class Critic(nn.Module):\n",
    "    \"\"\"\n",
    "    The Critic model takes in both a state observation and an action as input and \n",
    "    outputs a Q-value, which estimates the expected total reward for the current state-action pair. \n",
    "    \n",
    "    It consists of four linear layers with ReLU activation functions, \n",
    "    State and action inputs are concatenated before being fed into the first linear layer. \n",
    "    \n",
    "    The output layer has a single output, representing the Q-value\n",
    "    \"\"\"\n",
    "    def __init__(self, n_states, action_dim, H2):\n",
    "        super(Critic, self).__init__()\n",
    "        self.net = nn.Sequential(\n",
    "            nn.Linear(n_states + action_dim, H2), \n",
    "            nn.ReLU(), \n",
    "            nn.Linear(H2, H2), \n",
    "            nn.ReLU(), \n",
    "            nn.Linear(H2, H2), \n",
    "            nn.ReLU(), \n",
    "            nn.Linear(H2, action_dim)\n",
    "        )\n",
    "        \n",
    "    def forward(self, state, action):\n",
    "        return self.net(torch.cat((state, action), 1))"
   ]
  },
  {
   "cell_type": "markdown",
   "metadata": {},
   "source": [
    "### GPU Setup \n",
    "\n",
    "GPU is used for faster training if your machine has one "
   ]
  },
  {
   "cell_type": "code",
   "execution_count": 8,
   "metadata": {},
   "outputs": [
    {
     "name": "stdout",
     "output_type": "stream",
     "text": [
      "Job will run on cpu\n"
     ]
    }
   ],
   "source": [
    "#set GPU for faster training\n",
    "cuda = torch.cuda.is_available() #check for CUDA\n",
    "device   = torch.device(\"cuda\" if cuda else \"cpu\")\n",
    "print(\"Job will run on {}\".format(device))"
   ]
  },
  {
   "cell_type": "markdown",
   "metadata": {},
   "source": [
    "### DDPG Agent\n",
    "\n",
    "Creates a replay buffer, an actor-critic network and their corresponding target networks. Additionally, it also initializes the optimizer for both networks."
   ]
  },
  {
   "cell_type": "code",
   "execution_count": 9,
   "metadata": {},
   "outputs": [],
   "source": [
    "class DDPG(object):\n",
    "    def __init__(self, state_dim, action_dim):\n",
    "        \"\"\"\n",
    "        Initializes the DDPG agent. \n",
    "        Takes three arguments:\n",
    "               state_dim which is the dimensionality of the state space, \n",
    "               action_dim which is the dimensionality of the action space, and \n",
    "               max_action which is the maximum value an action can take. \n",
    "        \n",
    "        Creates a replay buffer, an actor-critic  networks and their corresponding target networks. \n",
    "        It also initializes the optimizer for both actor and critic networks alog with \n",
    "        counters to track the number of training iterations.\n",
    "        \"\"\"\n",
    "        self.replay_buffer = Replay_buffer()\n",
    "        \n",
    "        self.actor = Actor(state_dim, action_dim, H1).to(device)\n",
    "        self.actor_target = Actor(state_dim, action_dim,  H1).to(device)\n",
    "        self.actor_target.load_state_dict(self.actor.state_dict())\n",
    "        self.actor_optimizer = optim.Adam(self.actor.parameters(), lr=3e-3)\n",
    "\n",
    "        self.critic = Critic(state_dim, action_dim,  H2).to(device)\n",
    "        self.critic_target = Critic(state_dim, action_dim,  H2).to(device)\n",
    "        self.critic_target.load_state_dict(self.critic.state_dict())\n",
    "        self.critic_optimizer = optim.Adam(self.critic.parameters(), lr=2e-2)\n",
    "        # learning rate\n",
    "\n",
    "        \n",
    "\n",
    "        self.num_critic_update_iteration = 0\n",
    "        self.num_actor_update_iteration = 0\n",
    "        self.num_training = 0\n",
    "\n",
    "\n",
    "    def select_action(self, state):\n",
    "        \"\"\"\n",
    "        takes the current state as input and returns an action to take in that state. \n",
    "        It uses the actor network to map the state to an action.\n",
    "        \"\"\"\n",
    "        #print(f\"Doing an Action: state {state} reshaped {state.reshape(1, -1)}\")\n",
    "        state = torch.FloatTensor(state.reshape(1, -1)).to(device)\n",
    "        # print(state) # tensor([[0., 0.]])\n",
    "        return self.actor(state).cpu().data.numpy().flatten()\n",
    "\n",
    "    def update(self):\n",
    "        \"\"\"\n",
    "        updates the actor and critic networks using a batch of samples from the replay buffer. \n",
    "        For each sample in the batch, it computes the target Q value using the target critic network and the target actor network. \n",
    "        It then computes the current Q value using the critic network and the action taken by the actor network. \n",
    "        \n",
    "        It computes the critic loss as the mean squared error between the target Q value and the current Q value, and \n",
    "        updates the critic network using gradient descent. \n",
    "        \n",
    "        It then computes the actor loss as the negative mean Q value using the critic network and the actor network, and \n",
    "        updates the actor network using gradient ascent. \n",
    "        \n",
    "        Finally, it updates the target networks using soft updates, where a small fraction of the actor and critic network weights \n",
    "        are transferred to their target counterparts. \n",
    "        This process is repeated for a fixed number of iterations.\n",
    "        \"\"\"\n",
    "\n",
    "        for it in range(UPDATE_ITERATION):\n",
    "            # For each Sample in replay buffer batch\n",
    "            state, next_state, action, reward, done = self.replay_buffer.sample(BATCH_SIZE)\n",
    "            state = torch.FloatTensor(state).to(device)\n",
    "            #print(state)\n",
    "            action = torch.FloatTensor(action).to(device)\n",
    "            next_state = torch.FloatTensor(next_state).to(device)\n",
    "            done = torch.FloatTensor(1-done).to(device)\n",
    "            reward = torch.FloatTensor(reward).to(device)\n",
    "\n",
    "            # Compute the target Q value\n",
    "            target_Q = self.critic_target(next_state, self.actor_target(next_state))\n",
    "            target_Q = reward + (done * gamma * target_Q).detach()\n",
    "\n",
    "            # Get current Q estimate\n",
    "            current_Q = self.critic(state, action)\n",
    "\n",
    "            # Compute critic loss\n",
    "            critic_loss = F.mse_loss(current_Q, target_Q)\n",
    "            \n",
    "            # Optimize the critic\n",
    "            self.critic_optimizer.zero_grad()\n",
    "            critic_loss.backward()\n",
    "            self.critic_optimizer.step()\n",
    "\n",
    "            # Compute actor loss as the negative mean Q value using the critic network and the actor network\n",
    "            actor_loss = -self.critic(state, self.actor(state)).mean()\n",
    "            \n",
    "\n",
    "            # Optimize the actor\n",
    "            self.actor_optimizer.zero_grad()\n",
    "            actor_loss.backward()\n",
    "            self.actor_optimizer.step()\n",
    "\n",
    "            \n",
    "            \"\"\"\n",
    "            Update the frozen target models using \n",
    "            soft updates, where \n",
    "            tau,a small fraction of the actor and critic network weights are transferred to their target counterparts. \n",
    "            \"\"\"\n",
    "            for param, target_param in zip(self.critic.parameters(), self.critic_target.parameters()):\n",
    "                target_param.data.copy_(tau * param.data + (1 - tau) * target_param.data)\n",
    "\n",
    "            for param, target_param in zip(self.actor.parameters(), self.actor_target.parameters()):\n",
    "                target_param.data.copy_(tau * param.data + (1 - tau) * target_param.data)\n",
    "            \n",
    "           \n",
    "            self.num_actor_update_iteration += 1\n",
    "            self.num_critic_update_iteration += 1\n",
    "    def save(self):\n",
    "        \"\"\"\n",
    "        Saves the state dictionaries of the actor and critic networks to files\n",
    "        \"\"\"\n",
    "        torch.save(self.actor.state_dict(), directory + 'actor.pth')\n",
    "        torch.save(self.critic.state_dict(), directory + 'critic.pth')\n",
    "        \n",
    "\n",
    "    def load(self):\n",
    "        \"\"\"\n",
    "        Loads the state dictionaries of the actor and critic networks to files\n",
    "        \"\"\"\n",
    "        self.actor.load_state_dict(torch.load(directory + 'actor.pth'))\n",
    "        self.critic.load_state_dict(torch.load(directory + 'critic.pth'))\n",
    "       \n"
   ]
  },
  {
   "cell_type": "markdown",
   "metadata": {},
   "source": [
    "### Initialize a DDPG Instance\n",
    "\n",
    "Call the environment to be trained. Always use the same seed for data reproducibility"
   ]
  },
  {
   "cell_type": "code",
   "execution_count": 10,
   "metadata": {},
   "outputs": [
    {
     "name": "stdout",
     "output_type": "stream",
     "text": [
      "3\n"
     ]
    },
    {
     "name": "stderr",
     "output_type": "stream",
     "text": [
      "C:\\Users\\svens\\AppData\\Local\\Programs\\Python\\Python310\\lib\\site-packages\\gym\\spaces\\box.py:127: UserWarning: \u001b[33mWARN: Box bound precision lowered by casting to float32\u001b[0m\n",
      "  logger.warn(f\"Box bound precision lowered by casting to {self.dtype}\")\n"
     ]
    }
   ],
   "source": [
    "# Example environment:\n",
    "# create the environment\n",
    "# env_name='MountainCarContinuous-v0'\n",
    "# env = gym.make(env_name)\n",
    "\n",
    "# new environment\n",
    "env = HopperEnv()\n",
    "\n",
    "\n",
    "# XX\n",
    "# device = 'cuda' if torch.cuda.is_available() else 'cpu'\n",
    "\n",
    "# Define different parameters for training the agent:\n",
    "    # Episodes:\n",
    "MAX_EPISODE=50          # Number of episodes 200\n",
    "ep_r = 0          # Initial episode reward: normally 0 or -infinity\n",
    "score_hist=[]           # Initialize the list where all historical rewards of each episode are stored\n",
    "    # Steps:\n",
    "MAX_TIME_STEPS=300       # Number of steps taken per episode before moving on # 5000\n",
    "total_step = 0          # Initialize step count in each episode: [0, MAX_TIME_STEPS]\n",
    "\n",
    "# # To render the environmnet:\n",
    "# render=True\n",
    "# render_interval=10\n",
    "\n",
    "# For Reproducibility:\n",
    "# env.seed(0)\n",
    "torch.manual_seed(0)\n",
    "np.random.seed(0)\n",
    "\n",
    "# Environment action and states\n",
    "state_dim = env.observation_space.shape[0]\n",
    "print(state_dim)\n",
    "action_dim = env.action_space.shape[0]\n",
    "max_action = float(env.action_space.high[0])\n",
    "min_action = float(env.action_space.low[0])\n",
    "min_Val = torch.tensor(1e-7).float().to(device) \n",
    "\n",
    "\n",
    "# Exploration Noise\n",
    "exploration_noise=0.005 # [bar]"
   ]
  },
  {
   "cell_type": "markdown",
   "metadata": {},
   "source": [
    "### Iterate Through Episodes"
   ]
  },
  {
   "cell_type": "code",
   "execution_count": 11,
   "metadata": {},
   "outputs": [],
   "source": [
    "def map(value, from_min, from_max, to_min, to_max):\n",
    "    return np.clip((value - from_min) / (from_max - from_min) * (to_max - to_min) + to_min, to_min, to_max)"
   ]
  },
  {
   "cell_type": "code",
   "execution_count": 12,
   "metadata": {},
   "outputs": [
    {
     "name": "stdout",
     "output_type": "stream",
     "text": [
      "State dim: 3, Action dim: 1\n",
      "Episode: 49  Total Reward:    -300.00\r"
     ]
    }
   ],
   "source": [
    "# Create a DDPG instance\n",
    "agent = DDPG(state_dim, action_dim)\n",
    "print(\"State dim: {}, Action dim: {}\".format(state_dim, action_dim))\n",
    "\n",
    "episodes = []\n",
    "actions = []\n",
    "\n",
    "# Train the agent for the number of episodes set:\n",
    "for i in range(MAX_EPISODE):\n",
    "    total_reward = 0\n",
    "    step = 0\n",
    "    state = env.reset() # [x_target, x, a]\n",
    "    log = np.zeros((5,MAX_TIME_STEPS))\n",
    "    \n",
    "    # state=state[0]\n",
    "\n",
    "    for  t in range(MAX_TIME_STEPS):\n",
    "        action = agent.select_action(state) # range ? [-1..1] (?)\n",
    "        action = map(action, -1, 1, min_action, max_action) # [0..7]\n",
    "        if t==0: actions.append(action[0])\n",
    "            \n",
    "        #print(action)\n",
    "        # Add Gaussian noise to actions for exploration\n",
    "        action = (action + np.random.normal(0, exploration_noise, size=action_dim)).clip(min_action, max_action)\n",
    "        # print(env.step(action))\n",
    "        # action += OU_Noise.sample(action)\n",
    "\n",
    "        y, reward, done, info = env.step(action)\n",
    "\n",
    "        #y = np.array([state[1],state[2]])\n",
    "\n",
    "        log[0,t] = y[1]\n",
    "        log[1,t] = y[2]\n",
    "        log[2,t] = action[0]\n",
    "        log[3,t] = y[1] - y[0]\n",
    "        log[4,t] = reward\n",
    "\n",
    "        total_reward += reward\n",
    "        # if render and i >= render_interval : env.render()\n",
    "        agent.replay_buffer.push((state, y, action, reward, float(done)))\n",
    "\n",
    "        state = y\n",
    "        # print(state)\n",
    "        if done:\n",
    "            break\n",
    "        step += 1\n",
    "        \n",
    "    score_hist.append(total_reward)\n",
    "    total_step += step+1\n",
    "    print(f\"Episode: {i}  Total Reward: {total_reward:10.2f}\", end='\\r', flush=True)\n",
    "    episodes.append(log)\n",
    "    agent.update()\n",
    "    if i % 100 == 0:\n",
    "        agent.save()\n",
    "env.close()"
   ]
  },
  {
   "cell_type": "code",
   "execution_count": 18,
   "metadata": {},
   "outputs": [
    {
     "data": {
      "image/png": "[encoded data removed]",
      "text/plain": [
       "<Figure size 720x720 with 5 Axes>"
      ]
     },
     "metadata": {
      "needs_background": "light"
     },
     "output_type": "display_data"
    }
   ],
   "source": [
    "plot(episodes[3])"
   ]
  },
  {
   "cell_type": "code",
   "execution_count": 19,
   "metadata": {},
   "outputs": [],
   "source": [
    "import matplotlib.pyplot as plt \n",
    "import numpy as np\n",
    "def plot_learning_curve(x, scores):\n",
    "    running_avg = np.zeros(len(scores))\n",
    "    for i in range(len(running_avg)):\n",
    "        running_avg[i] = np.mean(scores[max(0, i-100):(i+1)])\n",
    "    plt.plot(x, running_avg)\n",
    "    plt.title('Running average of previous 100 scores')\n",
    "    #plt.savefig(figure_file)\n",
    "    plt.show()"
   ]
  },
  {
   "cell_type": "markdown",
   "metadata": {},
   "source": [
    "#### Plot Reward History Average\n",
    "\n",
    "Over all the episodes, the reward history average is plotted per episode"
   ]
  },
  {
   "cell_type": "code",
   "execution_count": 20,
   "metadata": {},
   "outputs": [
    {
     "data": {
      "image/png": "[encoded data removed]",
      "text/plain": [
       "<Figure size 432x288 with 1 Axes>"
      ]
     },
     "metadata": {
      "needs_background": "light"
     },
     "output_type": "display_data"
    }
   ],
   "source": [
    "x = [i+1 for i in range(len(score_hist))]\n",
    "plot_learning_curve(x, score_hist)"
   ]
  },
  {
   "cell_type": "code",
   "execution_count": null,
   "metadata": {},
   "outputs": [],
   "source": [
    "test_iteration=10              # 100\n",
    "max_length_of_trajectory=100   # 1000 \n",
    "for i in range(test_iteration):\n",
    "    state = env.reset()\n",
    "    for t in count():\n",
    "        action = agent.select_action(state)\n",
    "        action = map(action, -1, 1, min_action, max_action)\n",
    "        next_state, reward, done, info = env.step(np.float32(action))\n",
    "        ep_r += reward\n",
    "        #print(reward)\n",
    "        \n",
    "        # env.render()\n",
    "        if done: \n",
    "            # print(\"reward{}\".format(reward))\n",
    "            print(\"Episode \\t{}, the episode reward is \\t{:0.2f}\".format(i, ep_r))\n",
    "            ep_r = 0\n",
    "            # env.render()\n",
    "            break\n",
    "        state = next_state\n",
    "env.close()   "
   ]
  },
  {
   "cell_type": "code",
   "execution_count": null,
   "metadata": {},
   "outputs": [],
   "source": []
  }
 ],
 "metadata": {
  "kernelspec": {
   "display_name": "Python 3 (ipykernel)",
   "language": "python",
   "name": "python3"
  },
  "language_info": {
   "codemirror_mode": {
    "name": "ipython",
    "version": 3
   },
   "file_extension": ".py",
   "mimetype": "text/x-python",
   "name": "python",
   "nbconvert_exporter": "python",
   "pygments_lexer": "ipython3",
   "version": "3.10.2"
  }
 },
 "nbformat": 4,
 "nbformat_minor": 4
}
