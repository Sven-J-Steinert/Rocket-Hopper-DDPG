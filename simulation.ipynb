{
 "cells": [
  {
   "cell_type": "markdown",
   "id": "6625a5f1-35a8-4780-ae9b-d49e87557a6f",
   "metadata": {},
   "source": [
    "# Simulation of Physical System - to be used by Learning Algo"
   ]
  },
  {
   "cell_type": "code",
   "execution_count": 2,
   "id": "2d7f525f-3efc-4cb2-9dce-2af48bf71f28",
   "metadata": {},
   "outputs": [
    {
     "ename": "KeyboardInterrupt",
     "evalue": "",
     "output_type": "error",
     "traceback": [
      "\u001b[1;31m---------------------------------------------------------------------------\u001b[0m",
      "\u001b[1;31mKeyboardInterrupt\u001b[0m                         Traceback (most recent call last)",
      "Cell \u001b[1;32mIn[2], line 6\u001b[0m\n\u001b[0;32m      4\u001b[0m     \u001b[38;5;28;01mimport\u001b[39;00m \u001b[38;5;21;01msubprocess\u001b[39;00m\n\u001b[0;32m      5\u001b[0m     \u001b[38;5;28;01mfor\u001b[39;00m lib \u001b[38;5;129;01min\u001b[39;00m libs:\n\u001b[1;32m----> 6\u001b[0m         \u001b[43msubprocess\u001b[49m\u001b[38;5;241;43m.\u001b[39;49m\u001b[43mrun\u001b[49m\u001b[43m(\u001b[49m\u001b[43m[\u001b[49m\u001b[38;5;124;43m\"\u001b[39;49m\u001b[38;5;124;43mpip\u001b[39;49m\u001b[38;5;124;43m\"\u001b[39;49m\u001b[43m,\u001b[49m\u001b[43m \u001b[49m\u001b[38;5;124;43m\"\u001b[39;49m\u001b[38;5;124;43minstall\u001b[39;49m\u001b[38;5;124;43m\"\u001b[39;49m\u001b[43m,\u001b[49m\u001b[43m \u001b[49m\u001b[43mlib\u001b[49m\u001b[43m]\u001b[49m\u001b[43m)\u001b[49m\n\u001b[0;32m      7\u001b[0m \u001b[38;5;28;01mexcept\u001b[39;00m \u001b[38;5;167;01mException\u001b[39;00m \u001b[38;5;28;01mas\u001b[39;00m install_error:\n\u001b[0;32m      8\u001b[0m     \u001b[38;5;28mprint\u001b[39m(\u001b[38;5;124mf\u001b[39m\u001b[38;5;124m\"\u001b[39m\u001b[38;5;124mFailed to install required libraries: \u001b[39m\u001b[38;5;132;01m{\u001b[39;00minstall_error\u001b[38;5;132;01m}\u001b[39;00m\u001b[38;5;124m\"\u001b[39m)\n",
      "File \u001b[1;32m~\\AppData\\Local\\Programs\\Python\\Python310\\lib\\subprocess.py:503\u001b[0m, in \u001b[0;36mrun\u001b[1;34m(input, capture_output, timeout, check, *popenargs, **kwargs)\u001b[0m\n\u001b[0;32m    501\u001b[0m \u001b[38;5;28;01mwith\u001b[39;00m Popen(\u001b[38;5;241m*\u001b[39mpopenargs, \u001b[38;5;241m*\u001b[39m\u001b[38;5;241m*\u001b[39mkwargs) \u001b[38;5;28;01mas\u001b[39;00m process:\n\u001b[0;32m    502\u001b[0m     \u001b[38;5;28;01mtry\u001b[39;00m:\n\u001b[1;32m--> 503\u001b[0m         stdout, stderr \u001b[38;5;241m=\u001b[39m \u001b[43mprocess\u001b[49m\u001b[38;5;241;43m.\u001b[39;49m\u001b[43mcommunicate\u001b[49m\u001b[43m(\u001b[49m\u001b[38;5;28;43minput\u001b[39;49m\u001b[43m,\u001b[49m\u001b[43m \u001b[49m\u001b[43mtimeout\u001b[49m\u001b[38;5;241;43m=\u001b[39;49m\u001b[43mtimeout\u001b[49m\u001b[43m)\u001b[49m\n\u001b[0;32m    504\u001b[0m     \u001b[38;5;28;01mexcept\u001b[39;00m TimeoutExpired \u001b[38;5;28;01mas\u001b[39;00m exc:\n\u001b[0;32m    505\u001b[0m         process\u001b[38;5;241m.\u001b[39mkill()\n",
      "File \u001b[1;32m~\\AppData\\Local\\Programs\\Python\\Python310\\lib\\subprocess.py:1141\u001b[0m, in \u001b[0;36mPopen.communicate\u001b[1;34m(self, input, timeout)\u001b[0m\n\u001b[0;32m   1139\u001b[0m         stderr \u001b[38;5;241m=\u001b[39m \u001b[38;5;28mself\u001b[39m\u001b[38;5;241m.\u001b[39mstderr\u001b[38;5;241m.\u001b[39mread()\n\u001b[0;32m   1140\u001b[0m         \u001b[38;5;28mself\u001b[39m\u001b[38;5;241m.\u001b[39mstderr\u001b[38;5;241m.\u001b[39mclose()\n\u001b[1;32m-> 1141\u001b[0m     \u001b[38;5;28;43mself\u001b[39;49m\u001b[38;5;241;43m.\u001b[39;49m\u001b[43mwait\u001b[49m\u001b[43m(\u001b[49m\u001b[43m)\u001b[49m\n\u001b[0;32m   1142\u001b[0m \u001b[38;5;28;01melse\u001b[39;00m:\n\u001b[0;32m   1143\u001b[0m     \u001b[38;5;28;01mif\u001b[39;00m timeout \u001b[38;5;129;01mis\u001b[39;00m \u001b[38;5;129;01mnot\u001b[39;00m \u001b[38;5;28;01mNone\u001b[39;00m:\n",
      "File \u001b[1;32m~\\AppData\\Local\\Programs\\Python\\Python310\\lib\\subprocess.py:1204\u001b[0m, in \u001b[0;36mPopen.wait\u001b[1;34m(self, timeout)\u001b[0m\n\u001b[0;32m   1202\u001b[0m     endtime \u001b[38;5;241m=\u001b[39m _time() \u001b[38;5;241m+\u001b[39m timeout\n\u001b[0;32m   1203\u001b[0m \u001b[38;5;28;01mtry\u001b[39;00m:\n\u001b[1;32m-> 1204\u001b[0m     \u001b[38;5;28;01mreturn\u001b[39;00m \u001b[38;5;28;43mself\u001b[39;49m\u001b[38;5;241;43m.\u001b[39;49m\u001b[43m_wait\u001b[49m\u001b[43m(\u001b[49m\u001b[43mtimeout\u001b[49m\u001b[38;5;241;43m=\u001b[39;49m\u001b[43mtimeout\u001b[49m\u001b[43m)\u001b[49m\n\u001b[0;32m   1205\u001b[0m \u001b[38;5;28;01mexcept\u001b[39;00m \u001b[38;5;167;01mKeyboardInterrupt\u001b[39;00m:\n\u001b[0;32m   1206\u001b[0m     \u001b[38;5;66;03m# https://bugs.python.org/issue25942\u001b[39;00m\n\u001b[0;32m   1207\u001b[0m     \u001b[38;5;66;03m# The first keyboard interrupt waits briefly for the child to\u001b[39;00m\n\u001b[0;32m   1208\u001b[0m     \u001b[38;5;66;03m# exit under the common assumption that it also received the ^C\u001b[39;00m\n\u001b[0;32m   1209\u001b[0m     \u001b[38;5;66;03m# generated SIGINT and will exit rapidly.\u001b[39;00m\n\u001b[0;32m   1210\u001b[0m     \u001b[38;5;28;01mif\u001b[39;00m timeout \u001b[38;5;129;01mis\u001b[39;00m \u001b[38;5;129;01mnot\u001b[39;00m \u001b[38;5;28;01mNone\u001b[39;00m:\n",
      "File \u001b[1;32m~\\AppData\\Local\\Programs\\Python\\Python310\\lib\\subprocess.py:1485\u001b[0m, in \u001b[0;36mPopen._wait\u001b[1;34m(self, timeout)\u001b[0m\n\u001b[0;32m   1482\u001b[0m     timeout_millis \u001b[38;5;241m=\u001b[39m \u001b[38;5;28mint\u001b[39m(timeout \u001b[38;5;241m*\u001b[39m \u001b[38;5;241m1000\u001b[39m)\n\u001b[0;32m   1483\u001b[0m \u001b[38;5;28;01mif\u001b[39;00m \u001b[38;5;28mself\u001b[39m\u001b[38;5;241m.\u001b[39mreturncode \u001b[38;5;129;01mis\u001b[39;00m \u001b[38;5;28;01mNone\u001b[39;00m:\n\u001b[0;32m   1484\u001b[0m     \u001b[38;5;66;03m# API note: Returns immediately if timeout_millis == 0.\u001b[39;00m\n\u001b[1;32m-> 1485\u001b[0m     result \u001b[38;5;241m=\u001b[39m \u001b[43m_winapi\u001b[49m\u001b[38;5;241;43m.\u001b[39;49m\u001b[43mWaitForSingleObject\u001b[49m\u001b[43m(\u001b[49m\u001b[38;5;28;43mself\u001b[39;49m\u001b[38;5;241;43m.\u001b[39;49m\u001b[43m_handle\u001b[49m\u001b[43m,\u001b[49m\n\u001b[0;32m   1486\u001b[0m \u001b[43m                                         \u001b[49m\u001b[43mtimeout_millis\u001b[49m\u001b[43m)\u001b[49m\n\u001b[0;32m   1487\u001b[0m     \u001b[38;5;28;01mif\u001b[39;00m result \u001b[38;5;241m==\u001b[39m _winapi\u001b[38;5;241m.\u001b[39mWAIT_TIMEOUT:\n\u001b[0;32m   1488\u001b[0m         \u001b[38;5;28;01mraise\u001b[39;00m TimeoutExpired(\u001b[38;5;28mself\u001b[39m\u001b[38;5;241m.\u001b[39margs, timeout)\n",
      "\u001b[1;31mKeyboardInterrupt\u001b[0m: "
     ]
    }
   ],
   "source": [
    "# run this cell if you have missing libraries\n",
    "libs = [\"numpy\",\"matplotlib\",\"CoolProp\",\"prettytable\",\"tqdm\"]\n",
    "try:\n",
    "    import subprocess\n",
    "    for lib in libs:\n",
    "        subprocess.run([\"pip\", \"install\", lib])\n",
    "except Exception as install_error:\n",
    "    print(f\"Failed to install required libraries: {install_error}\")"
   ]
  },
  {
   "cell_type": "code",
   "execution_count": 1,
   "id": "fe992e6b-15f5-4655-af8e-145b0ac73821",
   "metadata": {},
   "outputs": [],
   "source": [
    "import numpy as np\n",
    "import matplotlib.pyplot as plt\n",
    "#from scipy.integrate import solve_ivp\n",
    "import CoolProp.CoolProp as CP\n",
    "from prettytable import PrettyTable\n",
    "from tqdm import tqdm\n",
    "from matplotlib.ticker import MultipleLocator"
   ]
  },
  {
   "cell_type": "markdown",
   "id": "1833c9de-dacb-437d-b8b2-ff32165f4099",
   "metadata": {},
   "source": [
    "$m \\cdot a = F$ <br>\n",
    "$\\ddot{x}= \\frac{1}{m} \\cdot (F_T(p) - F_G - F_H + F_R )$<br>\n",
    "$\\ddot{x}= \\frac{1}{m} \\cdot (F_T(p) - (m \\cdot g_0) - (k \\cdot x) + F_R(\\dot{x}) )$<br>\n",
    "<br>\n",
    "$F_R(\\dot{x})= \\begin{cases}\n",
    "  sign(\\dot{x}) \\cdot 10N, & \\text{for } \\lvert \\dot{x} \\rvert > 0.01 \\frac{m}{s} \\\\\n",
    "  \\frac{\\lvert \\dot{x} \\rvert}{0.01 \\frac{m}{s}} \\cdot sign(\\dot{x}) \\cdot 10N, & \\text{for } \\lvert \\dot{x} \\rvert \\leq 0.01 \\frac{m}{s}\n",
    "\\end{cases}$<br>\n",
    "<br>\n",
    "$F_T(p)= f_{Nozzle}(p) \\approx f_{fit} =  $"
   ]
  },
  {
   "cell_type": "markdown",
   "id": "302d00a9-7f65-4341-9e29-4a2592eee4bb",
   "metadata": {},
   "source": [
    "NASA Thust Calculation https://www.grc.nasa.gov/www/k-12/airplane/rktthsum.html"
   ]
  },
  {
   "cell_type": "code",
   "execution_count": 2,
   "id": "b16f7b03-82b3-40cc-892e-fa3fec0ee56f",
   "metadata": {},
   "outputs": [
    {
     "name": "stdout",
     "output_type": "stream",
     "text": [
      "+-------------+------------+------+\n",
      "|   variable  |   value    | unit |\n",
      "+-------------+------------+------+\n",
      "|     p_1     |       7.00 | bar  |\n",
      "|     T_1     |     255.76 |  K   |\n",
      "|      md     |    0.13663 | kg/s |\n",
      "| A_ex / A_th |    1.21000 |      |\n",
      "|     M_ex    |    1.54710 |      |\n",
      "|     p_2     |       1.78 | bar  |\n",
      "|     T_2     |     172.96 |  K   |\n",
      "|     v_ex    |     414.76 | m/s  |\n",
      "|     i_sp    |      42.29 |  s   |\n",
      "|     F_T     |      64.09 |  N   |\n",
      "+-------------+------------+------+\n"
     ]
    },
    {
     "data": {
      "text/plain": [
       "64.08583395815751"
      ]
     },
     "execution_count": 2,
     "metadata": {},
     "output_type": "execute_result"
    }
   ],
   "source": [
    "H = CP.PropsSI('H','P',300 * 1e5,'T',293, \"Nitrogen\") # assume Enthalpy constant ofer the whole system\n",
    "g0 = 9.80665\n",
    "\n",
    "def F_Thrust_NASA(p_valve,debug=False):\n",
    "    R = 296.8 # Gas constant of Nitrogen\n",
    "    gamma = 1.4\n",
    "    D_th = 0.010 # nozzle throat diameter m\n",
    "    D_ex = 0.011 # nozzle exit diameter mm\n",
    "    A_th = (np.pi/4) * D_th**2 # [m²]\n",
    "    A_ex = (np.pi/4) * D_ex**2 # [m²]\n",
    "\n",
    "    # values over the mach shock\n",
    "    p_1 = p_valve * 1e5 # [Pa]\n",
    "    T_1 = CP.PropsSI('T','P',p_1,'H',H, \"Nitrogen\") # [K]\n",
    "\n",
    "    md =  (A_th * p_1/np.sqrt(T_1)) * np.sqrt(gamma/R) * ((gamma + 1)/2)**-((gamma + 1)/(gamma - 1)/2) \n",
    "\n",
    "    # converge Mach_exit\n",
    "    M_ex = 2 # Initial value for the exit Mach number\n",
    "    error = np.inf\n",
    "    Aex_Ath_target = A_ex / A_th\n",
    "\n",
    "    if debug:\n",
    "        while abs(error) > 0.000001:\n",
    "            Aex_Ath =  (((gamma+1)/2)**-((gamma+1)/(gamma-1)/2)) / M_ex * (1 + M_ex**2 * (gamma-1)/2)**((gamma+1)/(gamma-1)/2) \n",
    "            \n",
    "            error = Aex_Ath-Aex_Ath_target\n",
    "            M_ex_step = 0.0000001 + M_ex*0.0005\n",
    "            if error > 0:\n",
    "                M_ex -= M_ex_step\n",
    "            else:\n",
    "                M_ex += M_ex_step\n",
    "            print(error,end='\\r',flush=True)\n",
    "    else:\n",
    "        # precomputed for Aex_Ath_target = 1.49383\n",
    "        M_ex = 1.84790\n",
    "    \n",
    "    T_2 = T_1 * ((1+ ((gamma-1)/2)*M_ex**2)**(-1))\n",
    "    p_2 = p_1 * ((1+ ((gamma-1)/2)*M_ex**2)**(-((gamma)/(gamma-1))))\n",
    "\n",
    "    v_ex = M_ex * np.sqrt(gamma*R*T_2)\n",
    "\n",
    "    p_infinity = 1 * 1e5 # [Pa]\n",
    "\n",
    "    F_T = md * v_ex + (p_2 - p_infinity) * A_ex\n",
    "    \n",
    "    if debug:\n",
    "        x = PrettyTable()\n",
    "        x.field_names = [\"variable\", \"value\", \"unit\"]\n",
    "        x.add_row([\"p_1\", f'{p_1/1e5:10.2f}', \"bar\"])\n",
    "        x.add_row([\"T_1\", f'{T_1:10.2f}', \"K\"])\n",
    "        x.add_row([\"md\", f'{md:10.5f}', \"kg/s\"])\n",
    "        x.add_row([\"A_ex / A_th\", f'{Aex_Ath_target:10.5f}', \"\"])\n",
    "        #x.add_row([\"A_ex / A_th\", f'{Aex_Ath:10.5f}', \"\"])\n",
    "        x.add_row([\"M_ex\", f'{M_ex:10.5f}', \"\"])\n",
    "        x.add_row([\"p_2\", f'{p_2/1e5:10.2f}', \"bar\"])\n",
    "        x.add_row([\"T_2\", f'{T_2:10.2f}', \"K\"])\n",
    "        x.add_row([\"v_ex\", f'{v_ex:10.2f}', \"m/s\"])\n",
    "        x.add_row([\"i_sp\", f'{v_ex/g0:10.2f}', \"s\"])\n",
    "        x.add_row([\"F_T\", f'{F_T:10.2f}', \"N\"])\n",
    "        print(x)\n",
    "\n",
    "    return F_T\n",
    "\n",
    "F_Thrust_NASA(7,debug=True)"
   ]
  },
  {
   "cell_type": "code",
   "execution_count": 3,
   "id": "588e5b46-6672-454e-9701-46f5765d15b1",
   "metadata": {},
   "outputs": [
    {
     "name": "stdout",
     "output_type": "stream",
     "text": [
      "+----------+------------+------+\n",
      "| variable |   value    | unit |\n",
      "+----------+------------+------+\n",
      "|   p_1    |       7.00 | bar  |\n",
      "|   T_1    |     255.76 |  K   |\n",
      "|    md    |    0.13663 | kg/s |\n",
      "|   M_ex   |    1.54787 |      |\n",
      "|   p_2    |       1.78 | bar  |\n",
      "|   T_2    |     172.91 |  K   |\n",
      "|   v_ex   |     414.90 | m/s  |\n",
      "|   i_sp   |      42.31 |  s   |\n",
      "|   F_T    |      64.09 |  N   |\n",
      "+----------+------------+------+\n"
     ]
    },
    {
     "data": {
      "text/plain": [
       "64.08582945011132"
      ]
     },
     "execution_count": 3,
     "metadata": {},
     "output_type": "execute_result"
    }
   ],
   "source": [
    "H = CP.PropsSI('H','P',300 * 1e5,'T',293, \"Nitrogen\") # assume Enthalpy constant ofer the whole system\n",
    "g0 = 9.80665\n",
    "\n",
    "def F_Thrust(p_valve,debug=False):\n",
    "    # p_valve in [bar]\n",
    "    \n",
    "    R = 296.8 # Gas constant of Nitrogen\n",
    "    gamma = 1.4\n",
    "    D_th = 0.010 # nozzle throat diameter m\n",
    "    D_ex = 0.011 # nozzle exit diameter mm\n",
    "    A_th = (np.pi/4) * D_th**2 # [m²]\n",
    "    A_ex = (np.pi/4) * D_ex**2 # [m²]\n",
    "\n",
    "    # values over the mach shock\n",
    "    p_1 = p_valve * 1e5 # [Pa]\n",
    "    T_1 = CP.PropsSI('T','P',p_1,'H',H, \"Nitrogen\") # [K]\n",
    "    \n",
    "    md = ((A_th*p_1)/np.sqrt((T_1*R)/gamma))*((gamma+1)/2)**((-gamma-1)/(2*(gamma-1))) # [kg/s]\n",
    "    #print(md)\n",
    "\n",
    "    # converge Mach number\n",
    "    M_ex_0 = 4 # Initial value for the exit Mach number\n",
    "    error = np.inf\n",
    "\n",
    "    while error > 0.001:\n",
    "        M_ex = M_ex_0-((((gamma+1)/2)**(-(gamma+1)/(2*(gamma-1)))*((1+(gamma-1)/2*M_ex_0**2)**((gamma+1)/(2*(gamma-1)))/M_ex_0)-A_ex/A_th)/((2*(M_ex_0**2-1)*((gamma-1)*M_ex_0**2+2)**((gamma+1)/(2*(gamma-1))-1))/((gamma+1)**((gamma+1)/(2*(gamma-1)))*M_ex_0**2)))\n",
    "        error = abs(M_ex-M_ex_0)\n",
    "        M_ex_0 = M_ex\n",
    "    #print(M_ex)\n",
    "    \n",
    "    T_2 = ((1 + ((gamma - 1)/2)*M_ex**2)**(-1))*T_1\n",
    "    p_2 = ((1 + ((gamma - 1)/2)*M_ex**2)**(-gamma/(gamma - 1)))*p_1\n",
    "    v_ex = M_ex * np.sqrt(gamma*R*T_2)\n",
    "    p_infinity = 1 * 1e5 # [Pa]\n",
    "    \n",
    "    F_T = md * v_ex + (p_2 - p_infinity) * A_ex\n",
    "\n",
    "    if debug:\n",
    "        x = PrettyTable()\n",
    "        x.field_names = [\"variable\", \"value\", \"unit\"]\n",
    "        x.add_row([\"p_1\", f'{p_1/1e5:10.2f}', \"bar\"])\n",
    "        x.add_row([\"T_1\", f'{T_1:10.2f}', \"K\"])\n",
    "        x.add_row([\"md\", f'{md:10.5f}', \"kg/s\"])\n",
    "        x.add_row([\"M_ex\", f'{M_ex:10.5f}', \"\"])\n",
    "        x.add_row([\"p_2\", f'{p_2/1e5:10.2f}', \"bar\"])\n",
    "        x.add_row([\"T_2\", f'{T_2:10.2f}', \"K\"])\n",
    "        x.add_row([\"v_ex\", f'{v_ex:10.2f}', \"m/s\"])\n",
    "        x.add_row([\"i_sp\", f'{v_ex/g0:10.2f}', \"s\"])\n",
    "        x.add_row([\"F_T\", f'{F_T:10.2f}', \"N\"])\n",
    "        print(x)\n",
    "\n",
    "    return F_T\n",
    "\n",
    "F_Thrust(7,debug=True)"
   ]
  },
  {
   "cell_type": "code",
   "execution_count": 4,
   "id": "efcb7cb3-2f6f-4ab9-ac25-82db85f9eaf6",
   "metadata": {},
   "outputs": [
    {
     "name": "stdout",
     "output_type": "stream",
     "text": [
      "[10.60078931 -9.50331778]\n",
      "f_fit(x) = 10.600789308865751*x + -9.503317777109121\n"
     ]
    },
    {
     "data": {
      "image/png": "[encoded data removed]",
      "text/plain": [
       "<Figure size 288x180 with 1 Axes>"
      ]
     },
     "metadata": {
      "needs_background": "light"
     },
     "output_type": "display_data"
    }
   ],
   "source": [
    "# test F Thrust over pressure - and fit it linear\n",
    "x = np.linspace(1,10,1000)\n",
    "y = []\n",
    "for i in x:\n",
    "    y.append(F_Thrust_NASA(i))\n",
    "\n",
    "# Perform linear fit\n",
    "coefficients = np.polyfit(x, y, 1)\n",
    "print(coefficients)\n",
    "print(f'f_fit(x) = {coefficients[0]}*x + {coefficients[1]}')\n",
    "linear_fit = np.poly1d(coefficients)\n",
    "\n",
    "plt.figure(figsize=(4,2.5))\n",
    "plt.plot(x, y, label='$f_{Nozzle}(p)$', color='tab:orange', linewidth=3)\n",
    "plt.plot(x, linear_fit(x), label='$f_{fit}(p)=m \\cdot p + n$', linestyle='-.', color='black', linewidth=1)\n",
    "plt.ylabel('$F_{Thrust}$  [N]')\n",
    "plt.xlabel('$p_{valve}  [bar]$')\n",
    "plt.legend()\n",
    "plt.gca().xaxis.set_minor_locator(MultipleLocator(1))\n",
    "plt.tight_layout()\n",
    "plt.savefig('FT.pdf', bbox_inches='tight')\n",
    "plt.show()"
   ]
  },
  {
   "cell_type": "code",
   "execution_count": 10,
   "id": "e30175a9-f1c5-4baf-8228-2269c792ebfe",
   "metadata": {},
   "outputs": [
    {
     "data": {
      "text/plain": [
       "64.70220738495114"
      ]
     },
     "execution_count": 10,
     "metadata": {},
     "output_type": "execute_result"
    }
   ],
   "source": [
    "# use linear fitted Thrust function to be faster for Reinforcement Learning\n",
    "def F_Thrust_fast(p_valve):\n",
    "    return max(0,linear_fit(p_valve))\n",
    "\n",
    "F_Thrust_fast(7)"
   ]
  },
  {
   "cell_type": "code",
   "execution_count": 12,
   "id": "a7f9dcd3-fab6-42d7-ad3b-c3b3cc95bafb",
   "metadata": {},
   "outputs": [
    {
     "data": {
      "text/plain": [
       "64.70220738495114"
      ]
     },
     "execution_count": 12,
     "metadata": {},
     "output_type": "execute_result"
    }
   ],
   "source": [
    "def F_Thrust_fast(p_valve):\n",
    "    coefficients = np.array([10.600789308865751,-9.503317777109121])\n",
    "    linear_fit = np.poly1d(coefficients)\n",
    "    return max(0,linear_fit(p_valve))\n",
    "\n",
    "F_Thrust_fast(7)"
   ]
  },
  {
   "cell_type": "code",
   "execution_count": 8,
   "id": "4b7b89d6-fd3f-4c13-911d-90bd68747b4d",
   "metadata": {},
   "outputs": [
    {
     "data": {
      "image/png": "[encoded data removed]",
      "text/plain": [
       "<Figure size 360x216 with 1 Axes>"
      ]
     },
     "metadata": {
      "needs_background": "light"
     },
     "output_type": "display_data"
    }
   ],
   "source": [
    "# resistance modelling - smoothed around zero to stablize model\n",
    "x = np.linspace(0,7,1000)\n",
    "y = []\n",
    "for i in x:\n",
    "    y.append(F_Thrust_fast(i))\n",
    "plt.figure(figsize=(5,3))\n",
    "plt.plot(x, y,label=\"$F_{T}(p_{valve})$\")\n",
    "plt.plot(x, linear_fit(x), label='$f_{fit}(p)=m \\cdot p + n$', linestyle='-.',alpha=0.5, color='black', linewidth=1)\n",
    "plt.ylabel('$F$ [N]')\n",
    "plt.xlabel('$p_{valve}  [bar]$')\n",
    "plt.legend()\n",
    "plt.gca().xaxis.set_minor_locator(MultipleLocator(0.5))\n",
    "plt.tight_layout()\n",
    "plt.savefig('FT.pdf', bbox_inches='tight')\n",
    "plt.show()"
   ]
  },
  {
   "cell_type": "code",
   "execution_count": 9,
   "id": "3927aa6c-23a1-4234-a6f1-e24b5de951fb",
   "metadata": {},
   "outputs": [
    {
     "name": "stdout",
     "output_type": "stream",
     "text": [
      "44.129925\n"
     ]
    }
   ],
   "source": [
    "# 𝐹𝑅𝑅 ≈ 10𝑁 Rolling - Resistance against velocity\n",
    "# FG = m\n",
    "\n",
    "m = 3.5 + 1 # kg\n",
    "F_T = 34.5 #F_Thrust(10) # N\n",
    "F_RR = 10 # N\n",
    "k  = 6 # N /m\n",
    "\n",
    "print(m*g0)\n",
    "\n",
    "# resistance modelling - smoothed to stablize model\n",
    "def F_R(v):\n",
    "    v_thr = 0.01\n",
    "    \n",
    "    if abs(v) > v_thr:\n",
    "        F_R = np.sign(v)*F_RR\n",
    "    else:\n",
    "        F_R = (abs(v)/v_thr)*np.sign(v)*F_RR\n",
    "    return F_R\n",
    "\n",
    "def dynamic_restriction(p_set,p_set_old):\n",
    "    # main valve opening / closing restriction\n",
    "    # 0 % = 0 bar to 100% = 10 bar\n",
    "    \n",
    "    dp = (p_set-p_set_old) # [bar]\n",
    "    sim_step = 1/60 # [s]\n",
    "    dp_dt = dp/sim_step # [bar/s]\n",
    "    \n",
    "    direction = (dp > 0) # True = opening, False = closing\n",
    "\n",
    "    # opening restrictions\n",
    "    # dp/dt = 10 bar / 0.825 s\n",
    "    dp_dt_opening = 10 / 0.825\n",
    "\n",
    "    # closing restrictions\n",
    "    # dp/dt = 10 bar / 1.7 s\n",
    "    dp_dt_closing = 10 / 1.7\n",
    "\n",
    "    # if requested change in pressure is to high\n",
    "    # return maximum allowed pressure over the next sim step (1/60 s)\n",
    "\n",
    "    if direction:\n",
    "        # opening\n",
    "        if dp_dt > dp_dt_opening:\n",
    "            # compute max allowed for new p_set\n",
    "            p_set = dp_dt_opening * sim_step + p_set_old\n",
    "            \n",
    "    if not direction:\n",
    "        # closing\n",
    "        if dp_dt > dp_dt_closing:\n",
    "            # compute max allowed for new p_set\n",
    "            p_set = dp_dt_closing * sim_step + p_set_old\n",
    "\n",
    "    return p_set\n",
    "\n",
    "\n",
    "def ode(t, y):\n",
    "    \"\"\"\n",
    "    Defines the system of ODEs for free fall.\n",
    "\n",
    "    Parameters:\n",
    "        t (float): Time.\n",
    "        y (array): Array containing the position and velocity [x, v].\n",
    "\n",
    "    Returns:\n",
    "        dydt (array): Array containing the derivatives [v, a].\n",
    "    \"\"\"\n",
    "    global F_T\n",
    "    \n",
    "    x = y[0]\n",
    "    v = y[1]\n",
    "    \n",
    "    a = (1/m)*(F_T - (m*g0) - (k *x) - (F_R(v)))\n",
    "    \n",
    "    # restrict movement to be not able to go below 0 in position\n",
    "    if (x == 0 or x < 0) and a < 0:\n",
    "        # would move into negative realm\n",
    "        #v = 0\n",
    "        a = 0\n",
    "    \n",
    "    dydt = np.array([v, a])\n",
    "    \n",
    "    return dydt\n",
    "\n",
    "def rk4_e(f, y, h, t): # runge kutta 4th order explicit\n",
    "    # runge kutte 4th order explicit\n",
    "    tk_05 = t + 0.5*h\n",
    "    yk_025 = y + 0.5 * h * f(t, y)\n",
    "    yk_05 = y + 0.5 * h * f(tk_05, yk_025)\n",
    "    yk_075 = y + h * f(tk_05, yk_05)\n",
    "    \n",
    "    return y + h/6 * (f(t, y) + 2 * f(tk_05, yk_025) + 2 * f(tk_05, yk_05) + f(t+h, yk_075))"
   ]
  },
  {
   "cell_type": "code",
   "execution_count": 10,
   "id": "f1efca9a-908c-43cf-b1d7-dcfb40d37291",
   "metadata": {},
   "outputs": [
    {
     "data": {
      "image/png": "[encoded data removed]",
      "text/plain": [
       "<Figure size 360x216 with 1 Axes>"
      ]
     },
     "metadata": {
      "needs_background": "light"
     },
     "output_type": "display_data"
    }
   ],
   "source": [
    "# resistance modelling - smoothed around zero to stablize model\n",
    "x = np.linspace(-0.05,0.05,1000)\n",
    "y = []\n",
    "for i in x:\n",
    "    y.append(F_R(i))\n",
    "plt.figure(figsize=(5,3))\n",
    "plt.plot(x, y,label=\"$F_{R}(\\dot{x})$\")\n",
    "plt.ylabel('$F$ [N]')\n",
    "plt.xlabel('$\\dot{x} [m/s]$')\n",
    "plt.legend()\n",
    "plt.gca().xaxis.set_minor_locator(MultipleLocator(0.01))\n",
    "plt.tight_layout()\n",
    "plt.savefig('FR.pdf', bbox_inches='tight')\n",
    "plt.show()"
   ]
  },
  {
   "cell_type": "code",
   "execution_count": 11,
   "id": "fb308a0d-e5f5-45a3-a9f9-72abb1799220",
   "metadata": {},
   "outputs": [],
   "source": [
    "def plot(states, time):\n",
    "    num_states = states.shape[0]\n",
    "\n",
    "    plt.figure(figsize=(10, 2*num_states))\n",
    "\n",
    "    names = [\"position [m]\",\"velocity [m/s]\",\"p_set [bar]\",\"error [m]\"]\n",
    "    colors = [\"tab:blue\",\"tab:orange\",\"tab:green\",\"tab:red\"]\n",
    "\n",
    "    for i in range(num_states):\n",
    "        plt.subplot(num_states, 1, i + 1)\n",
    "        plt.plot(time, states[i, :], label=names[i],color=colors[i])\n",
    "        if i == 3:\n",
    "            plt.fill_between(time, 0, states[i, :], color=colors[i], alpha=0.5)\n",
    "        plt.ylabel(names[i])\n",
    "        plt.legend()\n",
    "        plt.grid(True)\n",
    "\n",
    "    plt.xlabel('Time [steps]')\n",
    "    plt.tight_layout()\n",
    "    plt.show()"
   ]
  },
  {
   "cell_type": "code",
   "execution_count": 12,
   "id": "d4b8ee67-b662-42f8-8de2-56e30354044f",
   "metadata": {},
   "outputs": [
    {
     "name": "stdout",
     "output_type": "stream",
     "text": [
      "done\n"
     ]
    },
    {
     "data": {
      "image/png": "[encoded data removed]",
      "text/plain": [
       "<Figure size 720x288 with 2 Axes>"
      ]
     },
     "metadata": {
      "needs_background": "light"
     },
     "output_type": "display_data"
    }
   ],
   "source": [
    "h = 1/1000              # stepsize in seconds\n",
    "t0 = 0                  # initial time in seconds\n",
    "tn = 10                  # final time in seconds\n",
    "\n",
    "time = np.linspace(t0, tn, int((tn-t0)/h)+1)\n",
    "n = len(time)\n",
    "\n",
    "y0_ode = np.array([0,0]) # initial x, v\n",
    "\n",
    "states_ode = np.zeros((len(y0_ode), n))\n",
    "\n",
    "y_ode = y0_ode\n",
    "\n",
    "for ii, t in enumerate(time):\n",
    "\n",
    "    states_ode[:, ii] = y_ode\n",
    "            \n",
    "    y_ode = rk4_e(ode, y_ode, h, t)\n",
    "    \n",
    "    #print(f'Step {ii+1} of {n}'.format(),end=\"\\r\",flush=True)\n",
    "\n",
    "print('done')\n",
    "plot(states_ode,time)"
   ]
  },
  {
   "cell_type": "code",
   "execution_count": 13,
   "id": "2f5fa2fa-5fa6-4443-89cd-795b57d1e548",
   "metadata": {},
   "outputs": [],
   "source": [
    "# Alternative Integration via scipy\n",
    "\n",
    "# Initial conditions [initial_position, initial_velocity]\n",
    "#initial_conditions = [0, 0]\n",
    "\n",
    "# Time span for the simulation (0 to 5 seconds, for example)\n",
    "#t_span = (0, 5)\n",
    "\n",
    "# Solve the ODE using solve_ivp\n",
    "#solution = solve_ivp(ode, t_span, initial_conditions, method='RK45')\n",
    "\n",
    "# Extract results\n",
    "#time = solution.t\n",
    "#position = solution.y[0]\n",
    "#velocity = solution.y[1]"
   ]
  },
  {
   "cell_type": "code",
   "execution_count": 14,
   "id": "ba177729-0109-4630-ae12-bcb320f08862",
   "metadata": {},
   "outputs": [],
   "source": [
    "def sim_step(y,p=None):\n",
    "    h = 1/600              # stepsize in seconds\n",
    "    t0 = 0                  # initial time in seconds\n",
    "    tn = 1/60               # final time in seconds\n",
    "    \n",
    "    time = np.linspace(t0, tn, int((tn-t0)/h)+1)\n",
    "\n",
    "    # update Thrust\n",
    "    global F_T\n",
    "    F_T = F_Thrust_fast(p)\n",
    "    \n",
    "    for t in time:\n",
    "        y = rk4_e(ode, y, h, t)\n",
    "        \n",
    "    return y"
   ]
  },
  {
   "cell_type": "code",
   "execution_count": 15,
   "id": "721b580e-5995-48d8-8390-375947c5854e",
   "metadata": {},
   "outputs": [
    {
     "data": {
      "text/plain": [
       "array([ 1.33324759e+01, -6.41879989e-03])"
      ]
     },
     "execution_count": 15,
     "metadata": {},
     "output_type": "execute_result"
    }
   ],
   "source": [
    "# propagate\n",
    "y = np.array([0,0])\n",
    "for i in range(10*60):\n",
    "    y = sim_step(y,p=12) # sim_step(y,p=10)\n",
    "y"
   ]
  },
  {
   "cell_type": "code",
   "execution_count": 16,
   "id": "2f7a8428-02df-40d9-a02e-01550e2ebe72",
   "metadata": {},
   "outputs": [],
   "source": [
    "def sigmoid(x):\n",
    "    return 1/(1 + np.exp(-x))\n",
    "\n",
    "class PIDController:\n",
    "    def __init__(self, Kp, Ki, Kd):\n",
    "        self.Kp = Kp\n",
    "        self.Ki = Ki\n",
    "        self.Kd = Kd\n",
    "        self.prev_error = 0\n",
    "        self.integral = 0\n",
    "\n",
    "    def ctrl(self, y, x_target):\n",
    "        x_is = y[0]\n",
    "        # v_is = y[1]\n",
    "        error = x_target - x_is\n",
    "\n",
    "        # Proportional term\n",
    "        P = self.Kp * error\n",
    "\n",
    "        # Integral term\n",
    "        self.integral += error\n",
    "        I = self.Ki * self.integral\n",
    "\n",
    "        # Derivative term\n",
    "        derivative = error - self.prev_error\n",
    "        D = self.Kd * derivative\n",
    "        self.prev_error = error\n",
    "\n",
    "        # Calculate the control output\n",
    "        control_output = P + I + D\n",
    "\n",
    "        # map control value to the range [1 bar .. 12 bar]\n",
    "        p_min = 1\n",
    "        p_max = 10\n",
    "        \n",
    "        p_set = sigmoid(control_output) * (p_max - p_min) + p_min\n",
    "        \n",
    "        return p_set"
   ]
  },
  {
   "cell_type": "code",
   "execution_count": 19,
   "id": "13aee901-f47b-4d6c-b682-3e287074a46e",
   "metadata": {},
   "outputs": [
    {
     "name": "stderr",
     "output_type": "stream",
     "text": [
      " 37%|████████████████████████████▊                                                | 897/2400 [00:00<00:00, 2962.80it/s]C:\\Users\\svens\\AppData\\Local\\Temp\\ipykernel_12492\\102712200.py:2: RuntimeWarning: overflow encountered in exp\n",
      "  return 1/(1 + np.exp(-x))\n",
      "100%|████████████████████████████████████████████████████████████████████████████| 2400/2400 [00:00<00:00, 3017.10it/s]\n"
     ]
    },
    {
     "data": {
      "image/png": "[encoded data removed]",
      "text/plain": [
       "<Figure size 720x576 with 4 Axes>"
      ]
     },
     "metadata": {
      "needs_background": "light"
     },
     "output_type": "display_data"
    }
   ],
   "source": [
    "x_target = 4 # [m]\n",
    "y = np.array([0,0])\n",
    "t = 40 # simulation time [s]\n",
    "n = t * 60 # simulation simulates always 1/60 s in one window\n",
    "log = np.zeros((len(y)+2, n))\n",
    "# log[0,:] -> position\n",
    "# log[1,:] -> velocity\n",
    "# log[2,:] -> p_set\n",
    "pid = (20,0.01,500)\n",
    "contr = PIDController(*pid) # initialize controller\n",
    "p_set_old = 0\n",
    "time = range(n)\n",
    "for i in tqdm(time):\n",
    "    p_set = contr.ctrl(y,x_target)\n",
    "    p_set = dynamic_restriction(p_set,p_set_old)\n",
    "    y = sim_step(y,p_set)\n",
    "    p_set_old = p_set\n",
    "    \n",
    "    log[0, i] = y[0]\n",
    "    log[1, i] = y[1]\n",
    "    log[2,i] = p_set\n",
    "    log[3,i] = y[0]-x_target\n",
    "\n",
    "    if i == 1000:\n",
    "        x_target = 2 # [m]\n",
    "        contr = PIDController(*pid)\n",
    "\n",
    "plot(log,time)"
   ]
  },
  {
   "cell_type": "code",
   "execution_count": null,
   "id": "c298b7c2-dd42-49c6-ab69-6dd197d613b5",
   "metadata": {},
   "outputs": [],
   "source": []
  }
 ],
 "metadata": {
  "kernelspec": {
   "display_name": "Python 3 (ipykernel)",
   "language": "python",
   "name": "python3"
  },
  "language_info": {
   "codemirror_mode": {
    "name": "ipython",
    "version": 3
   },
   "file_extension": ".py",
   "mimetype": "text/x-python",
   "name": "python",
   "nbconvert_exporter": "python",
   "pygments_lexer": "ipython3",
   "version": "3.10.2"
  }
 },
 "nbformat": 4,
 "nbformat_minor": 5
}
