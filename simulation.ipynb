{
 "cells": [
  {
   "cell_type": "markdown",
   "id": "6625a5f1-35a8-4780-ae9b-d49e87557a6f",
   "metadata": {},
   "source": [
    "# Simulation of Physical System - to be used by Learning Algo"
   ]
  },
  {
   "cell_type": "code",
   "execution_count": 94,
   "id": "2d7f525f-3efc-4cb2-9dce-2af48bf71f28",
   "metadata": {},
   "outputs": [],
   "source": [
    "# run this cell if you have missing libraries\n",
    "libs = [\"numpy\",\"matplotlib\",\"CoolProp\",\"prettytable\",\"tqdm\"]\n",
    "try:\n",
    "    import subprocess\n",
    "    for lib in libs:\n",
    "        subprocess.run([\"pip\", \"install\", lib])\n",
    "except Exception as install_error:\n",
    "    print(f\"Failed to install required libraries: {install_error}\")"
   ]
  },
  {
   "cell_type": "code",
   "execution_count": 95,
   "id": "fe992e6b-15f5-4655-af8e-145b0ac73821",
   "metadata": {},
   "outputs": [],
   "source": [
    "import numpy as np\n",
    "import matplotlib.pyplot as plt\n",
    "#from scipy.integrate import solve_ivp\n",
    "import CoolProp.CoolProp as CP\n",
    "from prettytable import PrettyTable"
   ]
  },
  {
   "cell_type": "markdown",
   "id": "1833c9de-dacb-437d-b8b2-ff32165f4099",
   "metadata": {},
   "source": [
    "$m \\cdot a = F$ <br>\n",
    "$\\ddot{x}= \\frac{1}{m} \\cdot (F_T(p) - F_G - F_H + F_R )$<br>\n",
    "$\\ddot{x}= \\frac{1}{m} \\cdot (F_T(p) - (m \\cdot g_0) - (k \\cdot x) + F_R(\\dot{x}) )$<br>\n",
    "<br>\n",
    "$F_R(\\dot{x})= \\begin{cases}\n",
    "  sign(\\dot{x}) \\cdot 10N, & \\text{for } \\lvert \\dot{x} \\rvert > 0.01 \\frac{m}{s} \\\\\n",
    "  \\frac{\\lvert \\dot{x} \\rvert}{0.01 \\frac{m}{s}} \\cdot sign(\\dot{x}) \\cdot 10N, & \\text{for } \\lvert \\dot{x} \\rvert \\leq 0.01 \\frac{m}{s}\n",
    "\\end{cases}$<br>\n",
    "<br>\n",
    "$F_T(p)= f_{Nozzle}(p)$"
   ]
  },
  {
   "cell_type": "code",
   "execution_count": 91,
   "id": "588e5b46-6672-454e-9701-46f5765d15b1",
   "metadata": {},
   "outputs": [
    {
     "name": "stdout",
     "output_type": "stream",
     "text": [
      "+----------+------------+------+\n",
      "| variable |   value    | unit |\n",
      "+----------+------------+------+\n",
      "|   p_1    |      10.00 | bar  |\n",
      "|   T_1    |     256.62 |  K   |\n",
      "|    md    |    0.03946 | kg/s |\n",
      "|   M_ex   |    1.84882 |      |\n",
      "|   p_2    |       1.61 | bar  |\n",
      "|   T_2    |     152.42 |  K   |\n",
      "|   v_ex   |     465.28 | m/s  |\n",
      "|   i_sp   |      47.45 |  s   |\n",
      "|   F_T    |      39.74 |  N   |\n",
      "+----------+------------+------+\n"
     ]
    },
    {
     "data": {
      "text/plain": [
       "39.74240702223183"
      ]
     },
     "execution_count": 91,
     "metadata": {},
     "output_type": "execute_result"
    }
   ],
   "source": [
    "H = CP.PropsSI('H','P',300 * 1e5,'T',293, \"Nitrogen\") # assume Enthalpy constant ofer the whole system\n",
    "g0 = 9.80665\n",
    "\n",
    "def F_Thrust(p_valve,debug=False):\n",
    "    # p_valve in [bar]\n",
    "    \n",
    "    R = 296.8 # Gas constant of Nitrogen\n",
    "    gamma = 1.4\n",
    "    D_th = 0.009 # nozzle throat diameter m\n",
    "    D_ex = 0.011 # nozzle exit diameter mm\n",
    "    A_th = ((D_th/4)**2)*np.pi # [m²]\n",
    "    A_ex = ((D_ex/4)**2)*np.pi # [m²]\n",
    "\n",
    "    # values over the mach shock\n",
    "    p_1 = p_valve * 1e5 # [Pa]\n",
    "    T_1 = CP.PropsSI('T','P',p_1,'H',H, \"Nitrogen\") # [K]\n",
    "\n",
    "    md = ((A_th*p_1)/np.sqrt((T_1*R)/gamma))*((gamma+1)/2)**((-gamma-1)/(2*(gamma-1))) # [kg/s]\n",
    "    #print(md)\n",
    "\n",
    "    # converge Mach number\n",
    "    M_ex_0 = 4 # Initial value for the exit Mach number\n",
    "    error = np.inf\n",
    "\n",
    "    while error > 0.001:\n",
    "        M_ex = M_ex_0-((((gamma+1)/2)**(-(gamma+1)/(2*(gamma-1)))*((1+(gamma-1)/2*M_ex_0**2)**((gamma+1)/(2*(gamma-1)))/M_ex_0)-A_ex/A_th)/((2*(M_ex_0**2-1)*((gamma-1)*M_ex_0**2+2)**((gamma+1)/(2*(gamma-1))-1))/((gamma+1)**((gamma+1)/(2*(gamma-1)))*M_ex_0**2)))\n",
    "        error = abs(M_ex-M_ex_0)\n",
    "        M_ex_0 = M_ex\n",
    "    #print(M_ex)\n",
    "    \n",
    "    T_2 = ((1 + ((gamma - 1)/2)*M_ex**2)**(-1))*T_1\n",
    "    p_2 = ((1 + ((gamma - 1)/2)*M_ex**2)**(-gamma/(gamma - 1)))*p_1\n",
    "    v_ex = M_ex * np.sqrt(gamma*R*T_2)\n",
    "    p_infinity = 1 * 1e5 # [Pa]\n",
    "    \n",
    "    F_T = md * v_ex + (p_1 - p_infinity) * A_ex\n",
    "\n",
    "    if debug:\n",
    "        x = PrettyTable()\n",
    "        x.field_names = [\"variable\", \"value\", \"unit\"]\n",
    "        x.add_row([\"p_1\", f'{p_1/1e5:10.2f}', \"bar\"])\n",
    "        x.add_row([\"T_1\", f'{T_1:10.2f}', \"K\"])\n",
    "        x.add_row([\"md\", f'{md:10.5f}', \"kg/s\"])\n",
    "        x.add_row([\"M_ex\", f'{M_ex:10.5f}', \"\"])\n",
    "        x.add_row([\"p_2\", f'{p_2/1e5:10.2f}', \"bar\"])\n",
    "        x.add_row([\"T_2\", f'{T_2:10.2f}', \"K\"])\n",
    "        x.add_row([\"v_ex\", f'{v_ex:10.2f}', \"m/s\"])\n",
    "        x.add_row([\"i_sp\", f'{v_ex/g0:10.2f}', \"s\"])\n",
    "        x.add_row([\"F_T\", f'{F_T:10.2f}', \"N\"])\n",
    "        print(x)\n",
    "\n",
    "    return F_T\n",
    "\n",
    "F_Thrust(10,debug=True)"
   ]
  },
  {
   "cell_type": "code",
   "execution_count": 96,
   "id": "efcb7cb3-2f6f-4ab9-ac25-82db85f9eaf6",
   "metadata": {},
   "outputs": [
    {
     "data": {
      "image/png": "[encoded data removed]",
      "text/plain": [
       "<Figure size 432x288 with 1 Axes>"
      ]
     },
     "metadata": {
      "needs_background": "light"
     },
     "output_type": "display_data"
    }
   ],
   "source": [
    "# test F Thrust over pressure\n",
    "x = np.linspace(1,20,1000)\n",
    "y = []\n",
    "for i in x:\n",
    "    y.append(F_Thrust(i))\n",
    "plt.plot(x, y)\n",
    "plt.ylabel('$F_{Thrust}$ \\ [N]')\n",
    "plt.xlabel('$p_{set} \\ [bar]$')\n",
    "plt.show()"
   ]
  },
  {
   "cell_type": "code",
   "execution_count": 97,
   "id": "3927aa6c-23a1-4234-a6f1-e24b5de951fb",
   "metadata": {},
   "outputs": [],
   "source": [
    "# 𝐹𝑅𝑅 ≈ 10𝑁 Rolling - Resistance against velocity\n",
    "# FG = m\n",
    "\n",
    "m = 3.5 # kg\n",
    "F_T = 34.5 #F_Thrust(10) # N\n",
    "F_RR = 10 # N\n",
    "k  = 6 # N /m\n",
    "\n",
    "# resistance modelling - smoothed to stablize model\n",
    "def F_R(v):\n",
    "    v_thr = 0.01\n",
    "    \n",
    "    if abs(v) > v_thr:\n",
    "        F_R = np.sign(v)*F_RR\n",
    "    else:\n",
    "        F_R = (abs(v)/v_thr)*np.sign(v)*F_RR\n",
    "    return F_R\n",
    "\n",
    "def ode(t, y):\n",
    "    \"\"\"\n",
    "    Defines the system of ODEs for free fall.\n",
    "\n",
    "    Parameters:\n",
    "        t (float): Time.\n",
    "        y (array): Array containing the position and velocity [x, v].\n",
    "\n",
    "    Returns:\n",
    "        dydt (array): Array containing the derivatives [v, a].\n",
    "    \"\"\"\n",
    "    global F_T\n",
    "    \n",
    "    x = y[0]\n",
    "    v = y[1]\n",
    "    \n",
    "    a = (1/m)*(F_T - (m*g0) - (k *x) - (F_R(v)))\n",
    "    dydt = np.array([v, a])\n",
    "    return dydt\n",
    "\n",
    "def rk4_e(f, y, h, t): # runge kutta 4th order explicit\n",
    "    # runge kutte 4th order explicit\n",
    "    tk_05 = t + 0.5*h\n",
    "    yk_025 = y + 0.5 * h * f(t, y)\n",
    "    yk_05 = y + 0.5 * h * f(tk_05, yk_025)\n",
    "    yk_075 = y + h * f(tk_05, yk_05)\n",
    "    \n",
    "    return y + h/6 * (f(t, y) + 2 * f(tk_05, yk_025) + 2 * f(tk_05, yk_05) + f(t+h, yk_075))"
   ]
  },
  {
   "cell_type": "code",
   "execution_count": 98,
   "id": "f1efca9a-908c-43cf-b1d7-dcfb40d37291",
   "metadata": {},
   "outputs": [
    {
     "data": {
      "image/png": "[encoded data removed]",
      "text/plain": [
       "<Figure size 432x288 with 1 Axes>"
      ]
     },
     "metadata": {
      "needs_background": "light"
     },
     "output_type": "display_data"
    }
   ],
   "source": [
    "# resistance modelling - smoothed to stablize model\n",
    "x = np.linspace(-0.05,0.05,1000)\n",
    "y = []\n",
    "for i in x:\n",
    "    y.append(F_R(i))\n",
    "plt.plot(x, y)\n",
    "plt.ylabel('$F_{R}$ [N]')\n",
    "plt.xlabel('$\\dot{x} [m/s]$')\n",
    "plt.show()"
   ]
  },
  {
   "cell_type": "code",
   "execution_count": 316,
   "id": "fb308a0d-e5f5-45a3-a9f9-72abb1799220",
   "metadata": {},
   "outputs": [],
   "source": [
    "def plot(states, time):\n",
    "    num_states = states.shape[0]\n",
    "\n",
    "    plt.figure(figsize=(10, 2*num_states))\n",
    "\n",
    "    names = [\"position [m]\",\"velocity [m/s]\",\"p_set [bar]\",\"error [m]\"]\n",
    "    colors = [\"tab:blue\",\"tab:orange\",\"tab:green\",\"tab:red\"]\n",
    "\n",
    "    for i in range(num_states):\n",
    "        plt.subplot(num_states, 1, i + 1)\n",
    "        plt.plot(time, states[i, :], label=names[i],color=colors[i])\n",
    "        if i == 3:\n",
    "            plt.fill_between(time, 0, states[i, :], color=colors[i], alpha=0.5)\n",
    "        plt.ylabel(names[i])\n",
    "        plt.legend()\n",
    "        plt.grid(True)\n",
    "\n",
    "    plt.xlabel('Time')\n",
    "    plt.tight_layout()\n",
    "    plt.show()"
   ]
  },
  {
   "cell_type": "code",
   "execution_count": 302,
   "id": "d4b8ee67-b662-42f8-8de2-56e30354044f",
   "metadata": {},
   "outputs": [
    {
     "name": "stdout",
     "output_type": "stream",
     "text": [
      "done\n"
     ]
    },
    {
     "data": {
      "image/png": "[encoded data removed]",
      "text/plain": [
       "<Figure size 720x288 with 2 Axes>"
      ]
     },
     "metadata": {
      "needs_background": "light"
     },
     "output_type": "display_data"
    }
   ],
   "source": [
    "h = 1/1000              # stepsize in seconds\n",
    "t0 = 0                  # initial time in seconds\n",
    "tn = 10                  # final time in seconds\n",
    "\n",
    "time = np.linspace(t0, tn, int((tn-t0)/h)+1)\n",
    "n = len(time)\n",
    "\n",
    "y0_ode = np.array([0,0]) # initial x, v\n",
    "\n",
    "states_ode = np.zeros((len(y0_ode), n))\n",
    "\n",
    "y_ode = y0_ode\n",
    "\n",
    "for ii, t in enumerate(time):\n",
    "\n",
    "    states_ode[:, ii] = y_ode\n",
    "            \n",
    "    y_ode = rk4_e(ode, y_ode, h, t)\n",
    "    \n",
    "    #print(f'Step {ii+1} of {n}'.format(),end=\"\\r\",flush=True)\n",
    "\n",
    "print('done')\n",
    "plot(states_ode,time)"
   ]
  },
  {
   "cell_type": "code",
   "execution_count": 303,
   "id": "2f5fa2fa-5fa6-4443-89cd-795b57d1e548",
   "metadata": {},
   "outputs": [],
   "source": [
    "# Initial conditions [initial_position, initial_velocity]\n",
    "#initial_conditions = [0, 0]\n",
    "\n",
    "# Time span for the simulation (0 to 5 seconds, for example)\n",
    "#t_span = (0, 5)\n",
    "\n",
    "# Solve the ODE using solve_ivp\n",
    "#solution = solve_ivp(ode, t_span, initial_conditions, method='RK45')\n",
    "\n",
    "# Extract results\n",
    "#time = solution.t\n",
    "#position = solution.y[0]\n",
    "#velocity = solution.y[1]"
   ]
  },
  {
   "cell_type": "code",
   "execution_count": 304,
   "id": "ba177729-0109-4630-ae12-bcb320f08862",
   "metadata": {},
   "outputs": [],
   "source": [
    "def sim_step(y,p=None):\n",
    "    h = 1/600              # stepsize in seconds\n",
    "    t0 = 0                  # initial time in seconds\n",
    "    tn = 1/60               # final time in seconds\n",
    "    \n",
    "    time = np.linspace(t0, tn, int((tn-t0)/h)+1)\n",
    "\n",
    "    # update Thrust\n",
    "    global F_T\n",
    "    F_T = F_Thrust(p)\n",
    "    \n",
    "    for t in time:\n",
    "        y = rk4_e(ode, y, h, t)\n",
    "        \n",
    "    return y"
   ]
  },
  {
   "cell_type": "code",
   "execution_count": 305,
   "id": "721b580e-5995-48d8-8390-375947c5854e",
   "metadata": {},
   "outputs": [
    {
     "data": {
      "text/plain": [
       "array([0.0576693 , 0.00507322])"
      ]
     },
     "execution_count": 305,
     "metadata": {},
     "output_type": "execute_result"
    }
   ],
   "source": [
    "y = np.array([0,0])\n",
    "for i in range(10*60):\n",
    "    y = sim_step(y,p=10) # sim_step(y,p=10)\n",
    "y"
   ]
  },
  {
   "cell_type": "code",
   "execution_count": 306,
   "id": "4a39c7db-5c4e-4ada-9fe7-430cfc9bb3e3",
   "metadata": {},
   "outputs": [],
   "source": [
    "# array([0.00171476, 0.00016644])"
   ]
  },
  {
   "cell_type": "code",
   "execution_count": 307,
   "id": "2f7a8428-02df-40d9-a02e-01550e2ebe72",
   "metadata": {},
   "outputs": [],
   "source": [
    "def sigmoid(x):\n",
    "    return 1/(1 + np.exp(-x))\n",
    "\n",
    "class PIDController:\n",
    "    def __init__(self, Kp, Ki, Kd):\n",
    "        self.Kp = Kp\n",
    "        self.Ki = Ki\n",
    "        self.Kd = Kd\n",
    "        self.prev_error = 0\n",
    "        self.integral = 0\n",
    "\n",
    "    def ctrl(self, y, x_target):\n",
    "        x_is = y[0]\n",
    "        # v_is = y[1]\n",
    "        error = x_target - x_is\n",
    "\n",
    "        # Proportional term\n",
    "        P = self.Kp * error\n",
    "\n",
    "        # Integral term\n",
    "        self.integral += error\n",
    "        I = self.Ki * self.integral\n",
    "\n",
    "        # Derivative term\n",
    "        derivative = error - self.prev_error\n",
    "        D = self.Kd * derivative\n",
    "        self.prev_error = error\n",
    "\n",
    "        # Calculate the control output\n",
    "        control_output = P + I + D\n",
    "\n",
    "        # map control value to the range [1 bar .. 12 bar]\n",
    "        p_min = 1\n",
    "        p_max = 12\n",
    "        \n",
    "        p_set = sigmoid(control_output) * (p_max - p_min) + p_min\n",
    "        \n",
    "        return p_set"
   ]
  },
  {
   "cell_type": "code",
   "execution_count": 317,
   "id": "13aee901-f47b-4d6c-b682-3e287074a46e",
   "metadata": {},
   "outputs": [
    {
     "data": {
      "image/png": "[encoded data removed]",
      "text/plain": [
       "<Figure size 720x576 with 4 Axes>"
      ]
     },
     "metadata": {
      "needs_background": "light"
     },
     "output_type": "display_data"
    }
   ],
   "source": [
    "x_target = 0.2 # [m]\n",
    "y = np.array([0,0])\n",
    "t = 40 # simulation time [s]\n",
    "n = t * 60 # simulation simulates always 1/60 s in one window\n",
    "log = np.zeros((len(y)+2, n))\n",
    "# log[0,:] -> position\n",
    "# log[1,:] -> velocity\n",
    "# log[2,:] -> p_set\n",
    "\n",
    "contr = PIDController(25,0.2,0.1) # initialize controller\n",
    "\n",
    "time = range(n)\n",
    "for i in time:\n",
    "    p_set = contr.ctrl(y,x_target)\n",
    "    y = sim_step(y,p_set) # sim_step(y,p=10)\n",
    "    log[0, i] = y[0]\n",
    "    log[1, i] = y[1]\n",
    "    log[2,i] = p_set\n",
    "    log[3,i] = y[0]-x_target\n",
    "\n",
    "plot(log,time)"
   ]
  },
  {
   "cell_type": "code",
   "execution_count": null,
   "id": "c298b7c2-dd42-49c6-ab69-6dd197d613b5",
   "metadata": {},
   "outputs": [],
   "source": []
  }
 ],
 "metadata": {
  "kernelspec": {
   "display_name": "Python 3 (ipykernel)",
   "language": "python",
   "name": "python3"
  },
  "language_info": {
   "codemirror_mode": {
    "name": "ipython",
    "version": 3
   },
   "file_extension": ".py",
   "mimetype": "text/x-python",
   "name": "python",
   "nbconvert_exporter": "python",
   "pygments_lexer": "ipython3",
   "version": "3.10.2"
  }
 },
 "nbformat": 4,
 "nbformat_minor": 5
}
