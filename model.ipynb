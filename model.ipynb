{
 "cells": [
  {
   "cell_type": "code",
   "execution_count": 26,
   "id": "830df084-0edd-43b0-8a30-01b854456287",
   "metadata": {},
   "outputs": [],
   "source": [
    "import CoolProp.CoolProp as CP\n",
    "import numpy as np\n",
    "import matplotlib.pyplot as plt"
   ]
  },
  {
   "cell_type": "markdown",
   "id": "d8f77a51-f1f5-4f95-8689-da1ea7244175",
   "metadata": {},
   "source": [
    "## System Naming Convention\n",
    "\n",
    "[Tank]==>==(p0,T0)==>==[Pressure Reducer]==>==[Hose (p1,T1) , ... , (pk,Tk)]==>==[Fitting]>==(pk+1,Tk+1)==>==[Main Valve]==>==(pk+2,Tk+2)==>==[Nozzle]"
   ]
  },
  {
   "cell_type": "code",
   "execution_count": 27,
   "id": "dfb094e3-4915-48bb-addc-fed204d8fb12",
   "metadata": {},
   "outputs": [],
   "source": [
    "k=3 # hose segments\n",
    "n = 1+k+2 # total number of indices\n",
    "\n",
    "main_valve = n-2\n",
    "nozzle = n-1\n",
    "\n",
    "# grab values like this:\n",
    "# p[nozzle], T[main_valve]\n",
    "# or\n",
    "# p[0], T[0], rho[0]"
   ]
  },
  {
   "cell_type": "markdown",
   "id": "ecbc1b87",
   "metadata": {},
   "source": [
    "## System Dynamics"
   ]
  },
  {
   "cell_type": "code",
   "execution_count": 117,
   "id": "61ee7b58-0c46-4ced-ab16-6366f7ce7bac",
   "metadata": {},
   "outputs": [],
   "source": [
    "\n",
    "def CP_temp(pressure):\n",
    "    # enter pressure in bar\n",
    "    T = CP.PropsSI('T','P',pressure * 1e5,'H',H, fuel) # [K]\n",
    "    return T\n",
    "\n",
    "def CP_rho(pressure):\n",
    "    # enter pressure in bar\n",
    "    D = CP.PropsSI('D','P',pressure * 1e5,'H',H, fuel) # [kg/m³]\n",
    "    return D\n",
    "\n",
    "\n",
    "# Update Temp and Density from given Pressure\n",
    "def update_gas():\n",
    "    for i in range(n):\n",
    "        if p[i] != 0:\n",
    "            T[i] = CP_temp(p[i])\n",
    "            rho[i] = CP_rho(p[i])\n",
    "\n",
    "# handle hose segments\n",
    "r = 19.3 / 1e3 # m\n",
    "l = 8 # m\n",
    "A = np.pi * r**2 # m²\n",
    "l_i = l / k\n",
    "\n",
    "# y is state vector: [[p0,p1,p2,p3,...],[md0,md1,md2,md3,...],[md_dot_1,md_dot_2,md_dot_3,...],[rho1,rho2,rho3,...],[T0,T1,T2,T3,...]]\n",
    "# assumption: determine p and m_dot via equations, determine T and rho via constant Enthalpy and pressure\n",
    "# - adiabatic conditions\n",
    "\n",
    "## System Identification \n",
    "\n",
    "def ode(t, y, *args):\n",
    "    \"\"\"\n",
    "    Indices Reminder:\n",
    "        0 - tank\n",
    "        1 - before hose / after pressure reducer\n",
    "        2 - first segment of hose\n",
    "        ...\n",
    "        k+1 - last segment of hose\n",
    "        n-2 - main valve\n",
    "        n-1 - nozzle\n",
    "    \"\"\"\n",
    "    \n",
    "    # Fixed Constants\n",
    "    gamma = 1.4\n",
    "    lam = 3                 # dimensionless friction coefficient (assumed equal to lecture)\n",
    "    D_th = 9 #nozzle throat diameter mm\n",
    "    D_ex = 11 #nozzle exit diameter mm\n",
    "    R = 296,8 #Gas constant of Nitrogen\n",
    "    \n",
    "    # Defining the State Vector\n",
    "    p_dot = np.zeros(n)     # Differential Pressure\n",
    "    md_dot = np.zeros(n)    # Differential Mass Flow [kg/s]\n",
    "    p = y[0]                # Pressure [Pa]         \n",
    "    md = y[1]               # Mass Flow [kg/s]\n",
    "    rho = args[0]           # Density [kg/s]\n",
    "    T = args[1]             # Temperature [K]\n",
    "\n",
    "    # tank\n",
    "    #p[0] = 300 # bar\n",
    "    \n",
    "    # Pressure Regulator\n",
    "    #p[1] = 12 # bar\n",
    "    \n",
    "    # Hose\n",
    "    for i in range(2,k+2):\n",
    "        md_dot[i] = (p[i] - p[i+1] - lam/(2*rho[i]*A**2)*md[i]**2*np.sign(md[i]))*A/l\n",
    "        p_dot[i] = (p[i] * gamma)/rho[i]/(A*l_i) * (md[i] - md[i+1])\n",
    "    \n",
    "    # Fitting Segment\n",
    "    \"\"\" Assumptions: friction factor across valve is 100 times bigger than inside the\n",
    "        hose (lambda/100 component).\n",
    "    \"\"\"\n",
    "    md_dot[n-2] = np.sqrt(abs(p[k+2]-p[n-2])*2*rho[k+2]*A**2/lam/100)*np.sign(p[k+2]-p[n-2])\n",
    "\n",
    "    # Nozzle\n",
    "    A_th = (D_th/4)^2*math.pi\n",
    "    A_ex = (D_ex/4)^2*math.pi\n",
    "    md_dot[n-1] = ((A_th*p[n-2])/math.sqrt((T[n-2]*R)/gamma)*((gamma+1)/2))^((-gamma-1)/(2*(gamma-1)))\n",
    "\n",
    "    M_ex = 1.5 #Initial value for the exit Mach number\n",
    "\n",
    "    for j in range(0 ,10):\n",
    "        M_ex = (A_th*A_ex)*((gamma+1)/2)^((-gamma-1)/(2*(gamma-1)))*(1+((gamma-1)/2)*M_ex^2)^((gamma+1)/2*(gamma-1))\n",
    "\n",
    "    T[n-1] = ((1 + ((gamma - 1)/2)*M_ex^2)^(-1))*T[n-2]\n",
    "    p[n-1] = ((1 + ((gamma - 1)/2)*M_ex^2)^(-gamma/(gamma - 1)))*p[n-2]\n",
    "    v_ex = M_ex * math.sqrt(gamma*R*T[n-1])\n",
    "    F_thrust = md_dot[n-1] * v_ex + (p[n-2] - p[n-1]) * A_ex\n",
    "    \n",
    "    # Wrap up Reduced State Vector\n",
    "    y_dot = np.array([p_dot, md_dot])\n",
    "    \n",
    "    return y_dot\n",
    "\n",
    "#update_gas()"
   ]
  },
  {
   "cell_type": "markdown",
   "id": "26a0b9ea",
   "metadata": {},
   "source": [
    "## Integration Parameters & Initial Conditions"
   ]
  },
  {
   "cell_type": "code",
   "execution_count": 118,
   "id": "76033202-35dd-4646-b398-9b7ff01e96f5",
   "metadata": {},
   "outputs": [
    {
     "name": "stdout",
     "output_type": "stream",
     "text": [
      "302.6113629394813\n",
      "(2, 6, 1000)\n",
      "(2, 6)\n"
     ]
    }
   ],
   "source": [
    "# Integration Parameters\n",
    "\n",
    "h = 1/1000              # stepsize [s]\n",
    "t0 = 0                  # initial time [s]\n",
    "tn = 1                  # final time [s]\n",
    "\n",
    "time = np.linspace(t0, tn, int((tn-t0)/h)+1)\n",
    "\n",
    "# Initial Conditions\n",
    "\n",
    "p = np.zeros(n)\n",
    "T = np.zeros(n)\n",
    "rho = np.zeros(n)\n",
    "md = np.zeros(n)\n",
    "\n",
    "fuel = \"Nitrogen\"\n",
    "\n",
    "p[0] = 300 # bar\n",
    "T[0] = 293 # K\n",
    "\n",
    "H = CP.PropsSI('H','P',p[0] * 1e5,'T',T[0], fuel) # assume Enthalpy constant ofer the whole system\n",
    "print(CP_rho(p[0]))\n",
    "\n",
    "p[1:] = 12 # bar - condition before the hose\n",
    "\n",
    "# -----------\n",
    "\n",
    "y0_ode = np.array([p,md])\n",
    "y0_algeb = np.array([rho,T])\n",
    "\n",
    "# np.array([p,p_dot,md,md_dot,rho,T])\n",
    "\n",
    "#y0_algeb = np.array([rho_1_0, rho_2_0, rho_3_0, rho_4_0, rho_5_0, md4_0])#, md1_0])#, rho_3_0, rho_4_0, md3_0])\n",
    "\n",
    "states_ode = np.zeros((len(y0_ode),n,len(time)-1))\n",
    "#states_algeb = np.zeros((len(y0_algeb),n,len(time)))\n",
    "\n",
    "print(states_ode.shape)\n",
    "print(y0_ode.shape)"
   ]
  },
  {
   "cell_type": "markdown",
   "id": "03902fa0",
   "metadata": {},
   "source": [
    "## Running the Ingtegrator"
   ]
  },
  {
   "cell_type": "code",
   "execution_count": 119,
   "id": "f8e028b5-3b42-4d52-b52c-f38ba41230e2",
   "metadata": {},
   "outputs": [],
   "source": [
    "# integrator\n",
    "def rk4_e(f, y, h, t, *args): # runge kutta 4th order explicit\n",
    "    # runge kutte 4th order explicit\n",
    "    tk_05 = t + 0.5*h\n",
    "    yk_025 = y + 0.5 * h * f(t, y, *args)\n",
    "    yk_05 = y + 0.5 * h * f(tk_05, yk_025, *args)\n",
    "    yk_075 = y + h * f(tk_05, yk_05, *args)\n",
    "    \n",
    "    return y + h/6 * (f(t, y, *args) + 2 * f(tk_05, yk_025, *args) + 2 * f(tk_05, yk_05, *args) + f(t+h, yk_075, *args))"
   ]
  },
  {
   "cell_type": "code",
   "execution_count": 136,
   "id": "e0068584-9abc-41a0-baa0-59e544451714",
   "metadata": {},
   "outputs": [
    {
     "name": "stdout",
     "output_type": "stream",
     "text": [
      "Step 1000 of 1000\r"
     ]
    }
   ],
   "source": [
    "# Run the Integrator\n",
    "\n",
    "y_ode = y0_ode\n",
    "#y_algeb = y0_algeb\n",
    "\n",
    "for ii in range(len(time)-1):\n",
    "    \n",
    "    states_ode[:, :, ii] = y_ode\n",
    "    \n",
    "    #states_algeb[:,ii] = y_algeb\n",
    "    \n",
    "    t = time[ii]\n",
    "\n",
    "    for i in range(n):\n",
    "        p_i = y_ode[0][i]\n",
    "        rho[i] = CP_rho(p_i)\n",
    "        T[i] = CP_temp(p_i)\n",
    "\n",
    "    args = [rho,T] # rho,T\n",
    "    \n",
    "    y_ode = rk4_e(ode, y_ode, h, t, *args)              # runge kutta 4 integrator\n",
    "    \n",
    "    #y_algeb = algeb(states_ode[:, ii], y_ode, states_algeb[:, ii], A, lam)\n",
    "    \n",
    "    print(f'Step {ii+1} of {len(time)-1}'.format(),end=\"\\r\",flush=True)"
   ]
  },
  {
   "cell_type": "markdown",
   "id": "a7885095",
   "metadata": {},
   "source": [
    "## Plot Results"
   ]
  },
  {
   "cell_type": "code",
   "execution_count": 134,
   "id": "726bedb8-a9c9-4351-b212-067565ade283",
   "metadata": {},
   "outputs": [
    {
     "data": {
      "text/plain": [
       "<matplotlib.legend.Legend at 0x1fb7d24ad40>"
      ]
     },
     "execution_count": 134,
     "metadata": {},
     "output_type": "execute_result"
    },
    {
     "data": {
      "image/png": "[encoded data removed]",
      "text/plain": [
       "<Figure size 1728x360 with 2 Axes>"
      ]
     },
     "metadata": {
      "needs_background": "light"
     },
     "output_type": "display_data"
    }
   ],
   "source": [
    "#%%% plotting the results\n",
    "\n",
    "plt.figure(figsize=(24,5))\n",
    "plt.subplot(121)\n",
    "for i in range(n):\n",
    "    plt.plot(time[:-1], states_ode[0, i, :], label=f'p{str(i)}')\n",
    "\n",
    "plt.xlabel('Time [s]')\n",
    "plt.ylabel('Pressure [bar]')\n",
    "# plt.ylim(ymin=9.99999, ymax=10.00001)\n",
    "plt.grid()\n",
    "plt.legend()\n",
    "\n",
    "plt.subplot(122)\n",
    "for i in range(n):\n",
    "    plt.plot(time[:-1], states_ode[1, i, :], label=f'mp{str(i)}')\n",
    "    \n",
    "plt.xlabel('Time [s]')\n",
    "plt.ylabel('Mass Flow [kg/s]')\n",
    "plt.grid()\n",
    "plt.legend()"
   ]
  }
 ],
 "metadata": {
  "kernelspec": {
   "display_name": "Python 3 (ipykernel)",
   "language": "python",
   "name": "python3"
  },
  "language_info": {
   "codemirror_mode": {
    "name": "ipython",
    "version": 3
   },
   "file_extension": ".py",
   "mimetype": "text/x-python",
   "name": "python",
   "nbconvert_exporter": "python",
   "pygments_lexer": "ipython3",
   "version": "3.10.2"
  }
 },
 "nbformat": 4,
 "nbformat_minor": 5
}
