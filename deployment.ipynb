{
 "cells": [
  {
   "cell_type": "markdown",
   "id": "9593db2b-6d13-4814-955d-0fb4134fecf9",
   "metadata": {},
   "source": [
    "# Deployment Script\n",
    "\n",
    "- loads actor and critic from file\n",
    "- prepares command to send\n",
    "- maps sensordata to actor"
   ]
  },
  {
   "cell_type": "code",
   "execution_count": 1,
   "id": "400d1632-c450-45b9-a029-c0823ea98f6e",
   "metadata": {},
   "outputs": [
    {
     "name": "stdout",
     "output_type": "stream",
     "text": [
      "Job will run on cpu\n"
     ]
    }
   ],
   "source": [
    "import time\n",
    "from deployment import *\n",
    "from tqdm import tqdm"
   ]
  },
  {
   "cell_type": "code",
   "execution_count": 2,
   "id": "570b03d6-56c8-4464-8ff3-f35dbe1d4a22",
   "metadata": {},
   "outputs": [
    {
     "name": "stdout",
     "output_type": "stream",
     "text": [
      "learning rates: actor 0.0 | critic 0.0\n",
      "<deployment.DDPG object at 0x000002740C401C00>\n"
     ]
    }
   ],
   "source": [
    "# load actor and critic from file\n",
    "agent = DDPG(state_dim=3, action_dim=1)\n",
    "agent.load() # in same folder as this script\n",
    "print(agent)"
   ]
  },
  {
   "cell_type": "code",
   "execution_count": 6,
   "id": "712ece4e-3493-4a61-9ee8-b90abf90a165",
   "metadata": {},
   "outputs": [
    {
     "name": "stdout",
     "output_type": "stream",
     "text": [
      "(1.21, 9.73, 3.3846153846153846)\n",
      "< 42069: 4.5>\n"
     ]
    },
    {
     "data": {
      "text/plain": [
       "33"
      ]
     },
     "execution_count": 6,
     "metadata": {},
     "output_type": "execute_result"
    }
   ],
   "source": [
    "# test RX\n",
    "print(RX(\"< 74282: 9.73: 1.21: 1980: 0: 0 >\"))\n",
    "print(TX(4.5,42069))\n",
    "len(\"< 74282: 9.73: 1.21: 1980: 0: 0 >\")"
   ]
  },
  {
   "cell_type": "code",
   "execution_count": null,
   "id": "45eb1045-ba20-41af-affe-6cd5b6b56543",
   "metadata": {},
   "outputs": [
    {
     "name": "stderr",
     "output_type": "stream",
     "text": [
      " 85%|████████████████████████████████████████████████████████████           | 846116/1000000 [02:38<00:28, 5428.20it/s]"
     ]
    }
   ],
   "source": [
    "# control loop\n",
    "\n",
    "logs = np.zeros(1_000_000) # takes ~3 min to complete\n",
    "x_target = 2\n",
    "\n",
    "for i in tqdm(range(1_000_000)):\n",
    "    \n",
    "    start_time = time.time()\n",
    "    \n",
    "    x, a, _ = RX(\"< 74282: 9.73: 1.21: 1980: 0: 0 >\")\n",
    "    state = np.array([x_target,x,a])\n",
    "    action = agent.select_action(state) # range ? [-1..1] (?)\n",
    "    action = map(action, -1, 1, 0, 7) # [0..7]\n",
    "\n",
    "    end_time = time.time()\n",
    "    measurement = end_time - start_time\n",
    "    logs[i] = measurement\n",
    "\n",
    "logs = np.array(logs)\n",
    "print(f'min: {np.min(logs)*1000:0.2f} ms, max: {np.max(logs)*1000:0.2f} ms, mean: {np.mean(logs)*1000:0.2f} ms, median: {np.median(logs)*1000:0.2f} ms')"
   ]
  },
  {
   "cell_type": "code",
   "execution_count": 59,
   "id": "1e2a3b75-f23b-4965-b431-bdf220227d50",
   "metadata": {},
   "outputs": [
    {
     "data": {
      "image/png": "[encoded data removed]",
      "text/plain": [
       "<Figure size 288x144 with 1 Axes>"
      ]
     },
     "metadata": {
      "needs_background": "light"
     },
     "output_type": "display_data"
    }
   ],
   "source": [
    "import seaborn as sns\n",
    "\n",
    "plt.figure(figsize=(4, 2))\n",
    "# Create a density plot\n",
    "\n",
    "plt.axvline(x=np.mean(logs)*1000, color='green', linestyle='--', label=f'mean = {np.mean(logs)*1000:0.2f} ms') # mean\n",
    "sns.kdeplot(logs * 1000, fill=True, edgecolor='black')\n",
    "\n",
    "# Set plot labels and title\n",
    "#plt.title('Execution Time Density Plot')\n",
    "plt.xlabel('Time (ms)')\n",
    "plt.ylabel('Density')\n",
    "plt.legend()\n",
    "#plt.ylim(-0.1,4)\n",
    "\n",
    "plt.tight_layout()\n",
    "plt.savefig('img/ex_time.pdf', bbox_inches='tight')\n",
    "plt.show()"
   ]
  },
  {
   "cell_type": "code",
   "execution_count": null,
   "id": "d76e54b1-92b5-4e78-814b-61b79d91d013",
   "metadata": {},
   "outputs": [],
   "source": []
  }
 ],
 "metadata": {
  "kernelspec": {
   "display_name": "Python 3 (ipykernel)",
   "language": "python",
   "name": "python3"
  },
  "language_info": {
   "codemirror_mode": {
    "name": "ipython",
    "version": 3
   },
   "file_extension": ".py",
   "mimetype": "text/x-python",
   "name": "python",
   "nbconvert_exporter": "python",
   "pygments_lexer": "ipython3",
   "version": "3.10.2"
  }
 },
 "nbformat": 4,
 "nbformat_minor": 5
}
